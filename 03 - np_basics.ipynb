{
 "cells": [
  {
   "cell_type": "markdown",
   "id": "3caff214",
   "metadata": {},
   "source": [
    "# Основы Numpy и Scipy"
   ]
  },
  {
   "cell_type": "code",
   "execution_count": 1,
   "id": "5237255d",
   "metadata": {},
   "outputs": [],
   "source": [
    "import numpy as np"
   ]
  },
  {
   "cell_type": "markdown",
   "id": "12f9b37d",
   "metadata": {},
   "source": [
    "Наши задачи на этом уроке:\n",
    "\n",
    "- работа с многомерными массивами;\n",
    "- основы аугментации данных;\n",
    "- выполнение сложных математических операций с помощью стандартных функций."
   ]
  },
  {
   "cell_type": "markdown",
   "id": "04945169",
   "metadata": {},
   "source": [
    "## Многомерные массивы"
   ]
  },
  {
   "cell_type": "markdown",
   "id": "9e2f853f",
   "metadata": {},
   "source": [
    "### Создание"
   ]
  },
  {
   "cell_type": "code",
   "execution_count": 2,
   "id": "b0baf41b",
   "metadata": {},
   "outputs": [],
   "source": [
    "a = np.array([1, 2, 3, 4])"
   ]
  },
  {
   "cell_type": "code",
   "execution_count": 3,
   "id": "72952796",
   "metadata": {},
   "outputs": [
    {
     "name": "stdout",
     "output_type": "stream",
     "text": [
      "[1 2 3 4]\n"
     ]
    }
   ],
   "source": [
    "print(a)"
   ]
  },
  {
   "cell_type": "code",
   "execution_count": 4,
   "id": "546785b1",
   "metadata": {},
   "outputs": [
    {
     "data": {
      "text/plain": [
       "(4,)"
      ]
     },
     "execution_count": 4,
     "metadata": {},
     "output_type": "execute_result"
    }
   ],
   "source": [
    "a.shape"
   ]
  },
  {
   "cell_type": "code",
   "execution_count": 5,
   "id": "9b17ea66",
   "metadata": {},
   "outputs": [],
   "source": [
    "a = np.array([[1, 2, 3], [4, 5, 6]])"
   ]
  },
  {
   "cell_type": "code",
   "execution_count": 6,
   "id": "d202a93b",
   "metadata": {},
   "outputs": [
    {
     "name": "stdout",
     "output_type": "stream",
     "text": [
      "[[1 2 3]\n",
      " [4 5 6]]\n"
     ]
    }
   ],
   "source": [
    "print(a)"
   ]
  },
  {
   "cell_type": "code",
   "execution_count": 7,
   "id": "b3bda8ee",
   "metadata": {},
   "outputs": [
    {
     "data": {
      "text/plain": [
       "(2, 3)"
      ]
     },
     "execution_count": 7,
     "metadata": {},
     "output_type": "execute_result"
    }
   ],
   "source": [
    "a.shape"
   ]
  },
  {
   "cell_type": "code",
   "execution_count": 8,
   "id": "e679ea22",
   "metadata": {},
   "outputs": [
    {
     "data": {
      "text/plain": [
       "array([[0., 0., 0.],\n",
       "       [0., 0., 0.],\n",
       "       [0., 0., 0.]])"
      ]
     },
     "execution_count": 8,
     "metadata": {},
     "output_type": "execute_result"
    }
   ],
   "source": [
    "np.zeros((3, 3))"
   ]
  },
  {
   "cell_type": "code",
   "execution_count": 9,
   "id": "14d259da",
   "metadata": {},
   "outputs": [
    {
     "data": {
      "text/plain": [
       "array([[1., 1., 1.],\n",
       "       [1., 1., 1.],\n",
       "       [1., 1., 1.]])"
      ]
     },
     "execution_count": 9,
     "metadata": {},
     "output_type": "execute_result"
    }
   ],
   "source": [
    "np.ones((3, 3))"
   ]
  },
  {
   "cell_type": "code",
   "execution_count": 10,
   "id": "e9add444",
   "metadata": {},
   "outputs": [
    {
     "data": {
      "text/plain": [
       "array([[4.9e-324, 9.9e-324],\n",
       "       [1.5e-323, 2.0e-323]])"
      ]
     },
     "execution_count": 10,
     "metadata": {},
     "output_type": "execute_result"
    }
   ],
   "source": [
    "np.empty((2, 2))"
   ]
  },
  {
   "cell_type": "code",
   "execution_count": 11,
   "id": "d2dbd54e",
   "metadata": {},
   "outputs": [
    {
     "data": {
      "text/plain": [
       "array([[1., 0., 0.],\n",
       "       [0., 1., 0.],\n",
       "       [0., 0., 1.]])"
      ]
     },
     "execution_count": 11,
     "metadata": {},
     "output_type": "execute_result"
    }
   ],
   "source": [
    "np.eye(3)"
   ]
  },
  {
   "cell_type": "code",
   "execution_count": 12,
   "id": "ec1c6666",
   "metadata": {},
   "outputs": [
    {
     "data": {
      "text/plain": [
       "array([[1, 0, 0, 0],\n",
       "       [0, 2, 0, 0],\n",
       "       [0, 0, 3, 0],\n",
       "       [0, 0, 0, 4]])"
      ]
     },
     "execution_count": 12,
     "metadata": {},
     "output_type": "execute_result"
    }
   ],
   "source": [
    "np.diag((1, 2, 3, 4))"
   ]
  },
  {
   "cell_type": "code",
   "execution_count": 13,
   "id": "da67ecfe",
   "metadata": {},
   "outputs": [
    {
     "data": {
      "text/plain": [
       "array([0, 1, 2, 3, 4])"
      ]
     },
     "execution_count": 13,
     "metadata": {},
     "output_type": "execute_result"
    }
   ],
   "source": [
    "np.arange(5)"
   ]
  },
  {
   "cell_type": "code",
   "execution_count": 14,
   "id": "40a97eb4",
   "metadata": {},
   "outputs": [
    {
     "data": {
      "text/plain": [
       "array([1, 3, 5, 7, 9])"
      ]
     },
     "execution_count": 14,
     "metadata": {},
     "output_type": "execute_result"
    }
   ],
   "source": [
    "np.arange(1, 10, 2)"
   ]
  },
  {
   "cell_type": "code",
   "execution_count": 15,
   "id": "65130cb0",
   "metadata": {},
   "outputs": [
    {
     "data": {
      "text/plain": [
       "array([  0.,  10.,  20.,  30.,  40.,  50.,  60.,  70.,  80.,  90., 100.])"
      ]
     },
     "execution_count": 15,
     "metadata": {},
     "output_type": "execute_result"
    }
   ],
   "source": [
    "np.linspace(0, 100, num=11)"
   ]
  },
  {
   "cell_type": "code",
   "execution_count": 16,
   "id": "04f9f9e1",
   "metadata": {},
   "outputs": [
    {
     "data": {
      "text/plain": [
       "array([  0,  10,  20,  30,  40,  50,  60,  70,  80,  90, 100])"
      ]
     },
     "execution_count": 16,
     "metadata": {},
     "output_type": "execute_result"
    }
   ],
   "source": [
    "np.linspace(0, 100, num=11, dtype='int')"
   ]
  },
  {
   "cell_type": "code",
   "execution_count": 17,
   "id": "e1c73b4f",
   "metadata": {},
   "outputs": [],
   "source": [
    "def init_func(x, y):\n",
    "    return x * 10 + y"
   ]
  },
  {
   "cell_type": "code",
   "execution_count": 18,
   "id": "fb97f33c",
   "metadata": {},
   "outputs": [
    {
     "data": {
      "text/plain": [
       "array([[ 0.,  1.,  2.,  3.],\n",
       "       [10., 11., 12., 13.],\n",
       "       [20., 21., 22., 23.]])"
      ]
     },
     "execution_count": 18,
     "metadata": {},
     "output_type": "execute_result"
    }
   ],
   "source": [
    "np.fromfunction(init_func, (3, 4))"
   ]
  },
  {
   "cell_type": "markdown",
   "id": "86990eaa",
   "metadata": {},
   "source": [
    "### Изменение размера"
   ]
  },
  {
   "cell_type": "code",
   "execution_count": 19,
   "id": "e250dc13",
   "metadata": {},
   "outputs": [],
   "source": [
    "a = np.array([[1, 2, 3], [4, 5, 6]])"
   ]
  },
  {
   "cell_type": "code",
   "execution_count": 20,
   "id": "bc16f4e6",
   "metadata": {},
   "outputs": [
    {
     "data": {
      "text/plain": [
       "array([1, 2, 3, 4, 5, 6])"
      ]
     },
     "execution_count": 20,
     "metadata": {},
     "output_type": "execute_result"
    }
   ],
   "source": [
    "# Без копирования\n",
    "a.ravel()"
   ]
  },
  {
   "cell_type": "code",
   "execution_count": 21,
   "id": "44ab69d4",
   "metadata": {},
   "outputs": [
    {
     "data": {
      "text/plain": [
       "array([1, 2, 3, 4, 5, 6])"
      ]
     },
     "execution_count": 21,
     "metadata": {},
     "output_type": "execute_result"
    }
   ],
   "source": [
    "# С копированием\n",
    "a.flatten()"
   ]
  },
  {
   "cell_type": "code",
   "execution_count": 22,
   "id": "77d0c588",
   "metadata": {},
   "outputs": [
    {
     "name": "stdout",
     "output_type": "stream",
     "text": [
      "1\n",
      "2\n",
      "3\n",
      "4\n",
      "5\n",
      "6\n"
     ]
    }
   ],
   "source": [
    "# Через итератор:\n",
    "for i in a.flat:\n",
    "    print(i)"
   ]
  },
  {
   "cell_type": "code",
   "execution_count": 23,
   "id": "697664c1",
   "metadata": {},
   "outputs": [
    {
     "name": "stdout",
     "output_type": "stream",
     "text": [
      "[[1 2 3]\n",
      " [4 5 6]]\n"
     ]
    }
   ],
   "source": [
    "print(a)"
   ]
  },
  {
   "cell_type": "code",
   "execution_count": 24,
   "id": "c9ddf55a",
   "metadata": {},
   "outputs": [
    {
     "data": {
      "text/plain": [
       "array([[1, 2],\n",
       "       [3, 4],\n",
       "       [5, 6]])"
      ]
     },
     "execution_count": 24,
     "metadata": {},
     "output_type": "execute_result"
    }
   ],
   "source": [
    "a.reshape(3, 2)"
   ]
  },
  {
   "cell_type": "code",
   "execution_count": 25,
   "id": "8f40f1c4",
   "metadata": {},
   "outputs": [],
   "source": [
    "# In-place:\n",
    "a.resize(3, 2)"
   ]
  },
  {
   "cell_type": "code",
   "execution_count": 26,
   "id": "d8e0b5a2",
   "metadata": {},
   "outputs": [
    {
     "name": "stdout",
     "output_type": "stream",
     "text": [
      "[[1 2]\n",
      " [3 4]\n",
      " [5 6]]\n"
     ]
    }
   ],
   "source": [
    "print(a)"
   ]
  },
  {
   "cell_type": "code",
   "execution_count": 27,
   "id": "79c890e5",
   "metadata": {},
   "outputs": [],
   "source": [
    "a = [[1, 2, 3], [4, 5, 6]]\n",
    "b = [[5, 6, 7], [8, 9, 0]]"
   ]
  },
  {
   "cell_type": "code",
   "execution_count": 28,
   "id": "d086742c",
   "metadata": {},
   "outputs": [],
   "source": [
    "c = np.hstack((a, b))"
   ]
  },
  {
   "cell_type": "code",
   "execution_count": 29,
   "id": "4c4e735a",
   "metadata": {},
   "outputs": [
    {
     "name": "stdout",
     "output_type": "stream",
     "text": [
      "[[1 2 3 5 6 7]\n",
      " [4 5 6 8 9 0]]\n"
     ]
    }
   ],
   "source": [
    "print(c)"
   ]
  },
  {
   "cell_type": "code",
   "execution_count": 30,
   "id": "fd663fbc",
   "metadata": {},
   "outputs": [
    {
     "data": {
      "text/plain": [
       "[array([[1, 2, 3],\n",
       "        [4, 5, 6]]),\n",
       " array([[5, 6, 7],\n",
       "        [8, 9, 0]])]"
      ]
     },
     "execution_count": 30,
     "metadata": {},
     "output_type": "execute_result"
    }
   ],
   "source": [
    "np.hsplit(c, 2)"
   ]
  },
  {
   "cell_type": "code",
   "execution_count": 31,
   "id": "51a374e4",
   "metadata": {},
   "outputs": [
    {
     "data": {
      "text/plain": [
       "array([[1, 2, 3],\n",
       "       [4, 5, 6],\n",
       "       [5, 6, 7],\n",
       "       [8, 9, 0]])"
      ]
     },
     "execution_count": 31,
     "metadata": {},
     "output_type": "execute_result"
    }
   ],
   "source": [
    "np.vstack((a, b))"
   ]
  },
  {
   "cell_type": "markdown",
   "id": "39fbe2b0",
   "metadata": {},
   "source": [
    "### Арифметика"
   ]
  },
  {
   "cell_type": "code",
   "execution_count": 32,
   "id": "9ee41dca",
   "metadata": {},
   "outputs": [],
   "source": [
    "a = np.array([1, 2, 3, 4])\n",
    "b = np.array([5, 6, 7, 8])"
   ]
  },
  {
   "cell_type": "code",
   "execution_count": 33,
   "id": "32f35006",
   "metadata": {},
   "outputs": [
    {
     "data": {
      "text/plain": [
       "array([2, 3, 4, 5])"
      ]
     },
     "execution_count": 33,
     "metadata": {},
     "output_type": "execute_result"
    }
   ],
   "source": [
    "a + 1"
   ]
  },
  {
   "cell_type": "code",
   "execution_count": 34,
   "id": "5058080b",
   "metadata": {},
   "outputs": [
    {
     "data": {
      "text/plain": [
       "array([ 6,  8, 10, 12])"
      ]
     },
     "execution_count": 34,
     "metadata": {},
     "output_type": "execute_result"
    }
   ],
   "source": [
    "a + b"
   ]
  },
  {
   "cell_type": "code",
   "execution_count": 35,
   "id": "4aa7cdbf",
   "metadata": {},
   "outputs": [
    {
     "data": {
      "text/plain": [
       "array([ 5, 12, 21, 32])"
      ]
     },
     "execution_count": 35,
     "metadata": {},
     "output_type": "execute_result"
    }
   ],
   "source": [
    "a * b"
   ]
  },
  {
   "cell_type": "code",
   "execution_count": 36,
   "id": "29d7fcc6",
   "metadata": {},
   "outputs": [
    {
     "data": {
      "text/plain": [
       "70"
      ]
     },
     "execution_count": 36,
     "metadata": {},
     "output_type": "execute_result"
    }
   ],
   "source": [
    "a @ b"
   ]
  },
  {
   "cell_type": "markdown",
   "id": "e8bf2ea0",
   "metadata": {},
   "source": [
    "### Индексация"
   ]
  },
  {
   "cell_type": "code",
   "execution_count": 37,
   "id": "9bde78c2",
   "metadata": {},
   "outputs": [],
   "source": [
    "a = np.array([[1, 2, 3], [4, 5, 6], [0, 0, 2]])"
   ]
  },
  {
   "cell_type": "code",
   "execution_count": 38,
   "id": "f116f321",
   "metadata": {},
   "outputs": [
    {
     "name": "stdout",
     "output_type": "stream",
     "text": [
      "[[1 2 3]\n",
      " [4 5 6]\n",
      " [0 0 2]]\n"
     ]
    }
   ],
   "source": [
    "print(a)"
   ]
  },
  {
   "cell_type": "code",
   "execution_count": 39,
   "id": "19ed8735",
   "metadata": {},
   "outputs": [],
   "source": [
    "first_row = a[0]"
   ]
  },
  {
   "cell_type": "code",
   "execution_count": 40,
   "id": "00adbaa3",
   "metadata": {},
   "outputs": [
    {
     "name": "stdout",
     "output_type": "stream",
     "text": [
      "[1 2 3]\n"
     ]
    }
   ],
   "source": [
    "print(first_row)"
   ]
  },
  {
   "cell_type": "code",
   "execution_count": 41,
   "id": "27e6d934",
   "metadata": {},
   "outputs": [],
   "source": [
    "first_column = a[:,0]"
   ]
  },
  {
   "cell_type": "code",
   "execution_count": 42,
   "id": "0e2587f6",
   "metadata": {},
   "outputs": [
    {
     "name": "stdout",
     "output_type": "stream",
     "text": [
      "[1 4 0]\n"
     ]
    }
   ],
   "source": [
    "print(first_column)"
   ]
  },
  {
   "cell_type": "code",
   "execution_count": 43,
   "id": "88728e96",
   "metadata": {},
   "outputs": [
    {
     "name": "stdout",
     "output_type": "stream",
     "text": [
      "[[2 3]\n",
      " [5 6]\n",
      " [0 2]]\n"
     ]
    }
   ],
   "source": [
    "print(a[:, 1:])"
   ]
  },
  {
   "cell_type": "code",
   "execution_count": 44,
   "id": "8e8ef986",
   "metadata": {},
   "outputs": [
    {
     "data": {
      "text/plain": [
       "array([[ True,  True,  True],\n",
       "       [ True, False, False],\n",
       "       [ True,  True,  True]])"
      ]
     },
     "execution_count": 44,
     "metadata": {},
     "output_type": "execute_result"
    }
   ],
   "source": [
    "a < 5"
   ]
  },
  {
   "cell_type": "code",
   "execution_count": 45,
   "id": "45f2d854",
   "metadata": {},
   "outputs": [
    {
     "name": "stdout",
     "output_type": "stream",
     "text": [
      "[1 2 3 4 0 0 2]\n"
     ]
    }
   ],
   "source": [
    "print(a[a<5])"
   ]
  },
  {
   "cell_type": "code",
   "execution_count": 46,
   "id": "1c17aa97",
   "metadata": {},
   "outputs": [
    {
     "data": {
      "text/plain": [
       "array([ True, False,  True])"
      ]
     },
     "execution_count": 46,
     "metadata": {},
     "output_type": "execute_result"
    }
   ],
   "source": [
    "a[:, 1] < 5"
   ]
  },
  {
   "cell_type": "code",
   "execution_count": 47,
   "id": "de7e71d3",
   "metadata": {},
   "outputs": [
    {
     "data": {
      "text/plain": [
       "array([[1, 2, 3],\n",
       "       [0, 0, 2]])"
      ]
     },
     "execution_count": 47,
     "metadata": {},
     "output_type": "execute_result"
    }
   ],
   "source": [
    "a[a[:, 1] < 5]"
   ]
  },
  {
   "cell_type": "markdown",
   "id": "72245f7e",
   "metadata": {},
   "source": [
    "### Транспонирование"
   ]
  },
  {
   "cell_type": "code",
   "execution_count": 48,
   "id": "9a2c630b",
   "metadata": {},
   "outputs": [
    {
     "name": "stdout",
     "output_type": "stream",
     "text": [
      "[[1 4 0]\n",
      " [2 5 0]\n",
      " [3 6 2]]\n"
     ]
    }
   ],
   "source": [
    "print(a.T)"
   ]
  },
  {
   "cell_type": "markdown",
   "id": "d166e2e1",
   "metadata": {},
   "source": [
    "### Сортировка"
   ]
  },
  {
   "cell_type": "code",
   "execution_count": 49,
   "id": "652883d0",
   "metadata": {},
   "outputs": [
    {
     "data": {
      "text/plain": [
       "array([[0, 1, 4],\n",
       "       [0, 2, 5],\n",
       "       [2, 3, 6]])"
      ]
     },
     "execution_count": 49,
     "metadata": {},
     "output_type": "execute_result"
    }
   ],
   "source": [
    "np.sort(a.T)"
   ]
  },
  {
   "cell_type": "markdown",
   "id": "15fe6aed",
   "metadata": {},
   "source": [
    "### Аугментация"
   ]
  },
  {
   "cell_type": "code",
   "execution_count": 50,
   "id": "250ac3c2",
   "metadata": {
    "tags": []
   },
   "outputs": [
    {
     "data": {
      "text/plain": [
       "array([[3, 2, 1],\n",
       "       [6, 5, 4],\n",
       "       [2, 0, 0]])"
      ]
     },
     "execution_count": 50,
     "metadata": {},
     "output_type": "execute_result"
    }
   ],
   "source": [
    "np.flip(a, axis=1)"
   ]
  },
  {
   "cell_type": "code",
   "execution_count": 51,
   "id": "2230075d",
   "metadata": {},
   "outputs": [
    {
     "data": {
      "text/plain": [
       "array([[3, 1, 2],\n",
       "       [6, 4, 5],\n",
       "       [2, 0, 0]])"
      ]
     },
     "execution_count": 51,
     "metadata": {},
     "output_type": "execute_result"
    }
   ],
   "source": [
    "np.roll(a, 1, axis=1)"
   ]
  },
  {
   "cell_type": "code",
   "execution_count": 52,
   "id": "688581d7",
   "metadata": {},
   "outputs": [],
   "source": [
    "np.save('my_file', a)"
   ]
  },
  {
   "cell_type": "code",
   "execution_count": 53,
   "id": "a7d73120",
   "metadata": {},
   "outputs": [],
   "source": [
    "b = np.load('my_file.npy')"
   ]
  },
  {
   "cell_type": "code",
   "execution_count": 54,
   "id": "cd8fac1c",
   "metadata": {},
   "outputs": [
    {
     "name": "stdout",
     "output_type": "stream",
     "text": [
      "[[1 2 3]\n",
      " [4 5 6]\n",
      " [0 0 2]]\n"
     ]
    }
   ],
   "source": [
    "print(b)"
   ]
  },
  {
   "cell_type": "code",
   "execution_count": 55,
   "id": "b41aa1cb",
   "metadata": {},
   "outputs": [],
   "source": [
    "np.savetxt('b.csv', b, header='first, second, third', delimiter=',')"
   ]
  },
  {
   "cell_type": "markdown",
   "id": "2d12b164",
   "metadata": {},
   "source": [
    "### Импорт в Pandas"
   ]
  },
  {
   "cell_type": "code",
   "execution_count": 56,
   "id": "d718bb70",
   "metadata": {},
   "outputs": [],
   "source": [
    "import pandas as pd"
   ]
  },
  {
   "cell_type": "code",
   "execution_count": 57,
   "id": "d316d135",
   "metadata": {},
   "outputs": [],
   "source": [
    "df = pd.DataFrame(a, columns=['first', 'second', 'third'])"
   ]
  },
  {
   "cell_type": "code",
   "execution_count": 58,
   "id": "6de7aa4e",
   "metadata": {},
   "outputs": [
    {
     "data": {
      "text/html": [
       "<div>\n",
       "<style scoped>\n",
       "    .dataframe tbody tr th:only-of-type {\n",
       "        vertical-align: middle;\n",
       "    }\n",
       "\n",
       "    .dataframe tbody tr th {\n",
       "        vertical-align: top;\n",
       "    }\n",
       "\n",
       "    .dataframe thead th {\n",
       "        text-align: right;\n",
       "    }\n",
       "</style>\n",
       "<table border=\"1\" class=\"dataframe\">\n",
       "  <thead>\n",
       "    <tr style=\"text-align: right;\">\n",
       "      <th></th>\n",
       "      <th>first</th>\n",
       "      <th>second</th>\n",
       "      <th>third</th>\n",
       "    </tr>\n",
       "  </thead>\n",
       "  <tbody>\n",
       "    <tr>\n",
       "      <th>0</th>\n",
       "      <td>1</td>\n",
       "      <td>2</td>\n",
       "      <td>3</td>\n",
       "    </tr>\n",
       "    <tr>\n",
       "      <th>1</th>\n",
       "      <td>4</td>\n",
       "      <td>5</td>\n",
       "      <td>6</td>\n",
       "    </tr>\n",
       "    <tr>\n",
       "      <th>2</th>\n",
       "      <td>0</td>\n",
       "      <td>0</td>\n",
       "      <td>2</td>\n",
       "    </tr>\n",
       "  </tbody>\n",
       "</table>\n",
       "</div>"
      ],
      "text/plain": [
       "   first  second  third\n",
       "0      1       2      3\n",
       "1      4       5      6\n",
       "2      0       0      2"
      ]
     },
     "execution_count": 58,
     "metadata": {},
     "output_type": "execute_result"
    }
   ],
   "source": [
    "df"
   ]
  },
  {
   "cell_type": "code",
   "execution_count": 59,
   "id": "2d47ffa9",
   "metadata": {},
   "outputs": [],
   "source": [
    "df = pd.read_csv('b.csv')"
   ]
  },
  {
   "cell_type": "code",
   "execution_count": 60,
   "id": "1ee1d191",
   "metadata": {},
   "outputs": [
    {
     "data": {
      "text/html": [
       "<div>\n",
       "<style scoped>\n",
       "    .dataframe tbody tr th:only-of-type {\n",
       "        vertical-align: middle;\n",
       "    }\n",
       "\n",
       "    .dataframe tbody tr th {\n",
       "        vertical-align: top;\n",
       "    }\n",
       "\n",
       "    .dataframe thead th {\n",
       "        text-align: right;\n",
       "    }\n",
       "</style>\n",
       "<table border=\"1\" class=\"dataframe\">\n",
       "  <thead>\n",
       "    <tr style=\"text-align: right;\">\n",
       "      <th></th>\n",
       "      <th># first</th>\n",
       "      <th>second</th>\n",
       "      <th>third</th>\n",
       "    </tr>\n",
       "  </thead>\n",
       "  <tbody>\n",
       "    <tr>\n",
       "      <th>0</th>\n",
       "      <td>1.0</td>\n",
       "      <td>2.0</td>\n",
       "      <td>3.0</td>\n",
       "    </tr>\n",
       "    <tr>\n",
       "      <th>1</th>\n",
       "      <td>4.0</td>\n",
       "      <td>5.0</td>\n",
       "      <td>6.0</td>\n",
       "    </tr>\n",
       "    <tr>\n",
       "      <th>2</th>\n",
       "      <td>0.0</td>\n",
       "      <td>0.0</td>\n",
       "      <td>2.0</td>\n",
       "    </tr>\n",
       "  </tbody>\n",
       "</table>\n",
       "</div>"
      ],
      "text/plain": [
       "   # first   second   third\n",
       "0      1.0      2.0     3.0\n",
       "1      4.0      5.0     6.0\n",
       "2      0.0      0.0     2.0"
      ]
     },
     "execution_count": 60,
     "metadata": {},
     "output_type": "execute_result"
    }
   ],
   "source": [
    "df"
   ]
  },
  {
   "cell_type": "code",
   "execution_count": 61,
   "id": "9a72719a",
   "metadata": {},
   "outputs": [
    {
     "data": {
      "text/html": [
       "<div>\n",
       "<style scoped>\n",
       "    .dataframe tbody tr th:only-of-type {\n",
       "        vertical-align: middle;\n",
       "    }\n",
       "\n",
       "    .dataframe tbody tr th {\n",
       "        vertical-align: top;\n",
       "    }\n",
       "\n",
       "    .dataframe thead th {\n",
       "        text-align: right;\n",
       "    }\n",
       "</style>\n",
       "<table border=\"1\" class=\"dataframe\">\n",
       "  <thead>\n",
       "    <tr style=\"text-align: right;\">\n",
       "      <th></th>\n",
       "      <th># first</th>\n",
       "      <th>second</th>\n",
       "      <th>third</th>\n",
       "    </tr>\n",
       "  </thead>\n",
       "  <tbody>\n",
       "    <tr>\n",
       "      <th>count</th>\n",
       "      <td>3.000000</td>\n",
       "      <td>3.000000</td>\n",
       "      <td>3.000000</td>\n",
       "    </tr>\n",
       "    <tr>\n",
       "      <th>mean</th>\n",
       "      <td>1.666667</td>\n",
       "      <td>2.333333</td>\n",
       "      <td>3.666667</td>\n",
       "    </tr>\n",
       "    <tr>\n",
       "      <th>std</th>\n",
       "      <td>2.081666</td>\n",
       "      <td>2.516611</td>\n",
       "      <td>2.081666</td>\n",
       "    </tr>\n",
       "    <tr>\n",
       "      <th>min</th>\n",
       "      <td>0.000000</td>\n",
       "      <td>0.000000</td>\n",
       "      <td>2.000000</td>\n",
       "    </tr>\n",
       "    <tr>\n",
       "      <th>25%</th>\n",
       "      <td>0.500000</td>\n",
       "      <td>1.000000</td>\n",
       "      <td>2.500000</td>\n",
       "    </tr>\n",
       "    <tr>\n",
       "      <th>50%</th>\n",
       "      <td>1.000000</td>\n",
       "      <td>2.000000</td>\n",
       "      <td>3.000000</td>\n",
       "    </tr>\n",
       "    <tr>\n",
       "      <th>75%</th>\n",
       "      <td>2.500000</td>\n",
       "      <td>3.500000</td>\n",
       "      <td>4.500000</td>\n",
       "    </tr>\n",
       "    <tr>\n",
       "      <th>max</th>\n",
       "      <td>4.000000</td>\n",
       "      <td>5.000000</td>\n",
       "      <td>6.000000</td>\n",
       "    </tr>\n",
       "  </tbody>\n",
       "</table>\n",
       "</div>"
      ],
      "text/plain": [
       "        # first    second     third\n",
       "count  3.000000  3.000000  3.000000\n",
       "mean   1.666667  2.333333  3.666667\n",
       "std    2.081666  2.516611  2.081666\n",
       "min    0.000000  0.000000  2.000000\n",
       "25%    0.500000  1.000000  2.500000\n",
       "50%    1.000000  2.000000  3.000000\n",
       "75%    2.500000  3.500000  4.500000\n",
       "max    4.000000  5.000000  6.000000"
      ]
     },
     "execution_count": 61,
     "metadata": {},
     "output_type": "execute_result"
    }
   ],
   "source": [
    "df.describe()"
   ]
  },
  {
   "cell_type": "code",
   "execution_count": 62,
   "id": "ba4c14e7",
   "metadata": {},
   "outputs": [
    {
     "data": {
      "text/html": [
       "<div>\n",
       "<style scoped>\n",
       "    .dataframe tbody tr th:only-of-type {\n",
       "        vertical-align: middle;\n",
       "    }\n",
       "\n",
       "    .dataframe tbody tr th {\n",
       "        vertical-align: top;\n",
       "    }\n",
       "\n",
       "    .dataframe thead th {\n",
       "        text-align: right;\n",
       "    }\n",
       "</style>\n",
       "<table border=\"1\" class=\"dataframe\">\n",
       "  <thead>\n",
       "    <tr style=\"text-align: right;\">\n",
       "      <th></th>\n",
       "      <th>count</th>\n",
       "      <th>mean</th>\n",
       "      <th>std</th>\n",
       "      <th>min</th>\n",
       "      <th>25%</th>\n",
       "      <th>50%</th>\n",
       "      <th>75%</th>\n",
       "      <th>max</th>\n",
       "    </tr>\n",
       "  </thead>\n",
       "  <tbody>\n",
       "    <tr>\n",
       "      <th># first</th>\n",
       "      <td>3.0</td>\n",
       "      <td>1.666667</td>\n",
       "      <td>2.081666</td>\n",
       "      <td>0.0</td>\n",
       "      <td>0.5</td>\n",
       "      <td>1.0</td>\n",
       "      <td>2.5</td>\n",
       "      <td>4.0</td>\n",
       "    </tr>\n",
       "    <tr>\n",
       "      <th>second</th>\n",
       "      <td>3.0</td>\n",
       "      <td>2.333333</td>\n",
       "      <td>2.516611</td>\n",
       "      <td>0.0</td>\n",
       "      <td>1.0</td>\n",
       "      <td>2.0</td>\n",
       "      <td>3.5</td>\n",
       "      <td>5.0</td>\n",
       "    </tr>\n",
       "    <tr>\n",
       "      <th>third</th>\n",
       "      <td>3.0</td>\n",
       "      <td>3.666667</td>\n",
       "      <td>2.081666</td>\n",
       "      <td>2.0</td>\n",
       "      <td>2.5</td>\n",
       "      <td>3.0</td>\n",
       "      <td>4.5</td>\n",
       "      <td>6.0</td>\n",
       "    </tr>\n",
       "  </tbody>\n",
       "</table>\n",
       "</div>"
      ],
      "text/plain": [
       "         count      mean       std  min  25%  50%  75%  max\n",
       "# first    3.0  1.666667  2.081666  0.0  0.5  1.0  2.5  4.0\n",
       " second    3.0  2.333333  2.516611  0.0  1.0  2.0  3.5  5.0\n",
       " third     3.0  3.666667  2.081666  2.0  2.5  3.0  4.5  6.0"
      ]
     },
     "execution_count": 62,
     "metadata": {},
     "output_type": "execute_result"
    }
   ],
   "source": [
    "df.describe().T"
   ]
  },
  {
   "cell_type": "markdown",
   "id": "b34a797d",
   "metadata": {},
   "source": [
    "### Статистика"
   ]
  },
  {
   "cell_type": "code",
   "execution_count": 63,
   "id": "5e7f1790",
   "metadata": {},
   "outputs": [],
   "source": [
    "values, counts = np.unique(a, return_counts=True)"
   ]
  },
  {
   "cell_type": "code",
   "execution_count": 64,
   "id": "64faeee2",
   "metadata": {},
   "outputs": [
    {
     "name": "stdout",
     "output_type": "stream",
     "text": [
      "[0 1 2 3 4 5 6]\n",
      "[2 1 2 1 1 1 1]\n"
     ]
    }
   ],
   "source": [
    "print(values)\n",
    "print(counts)"
   ]
  },
  {
   "cell_type": "code",
   "execution_count": 65,
   "id": "b40ecdf5",
   "metadata": {},
   "outputs": [
    {
     "data": {
      "text/plain": [
       "2.5555555555555554"
      ]
     },
     "execution_count": 65,
     "metadata": {},
     "output_type": "execute_result"
    }
   ],
   "source": [
    "a.mean()"
   ]
  },
  {
   "cell_type": "code",
   "execution_count": 66,
   "id": "f7f0fab9",
   "metadata": {},
   "outputs": [
    {
     "data": {
      "text/plain": [
       "array([1.66666667, 2.33333333, 3.66666667])"
      ]
     },
     "execution_count": 66,
     "metadata": {},
     "output_type": "execute_result"
    }
   ],
   "source": [
    "np.mean(a, axis=0)"
   ]
  },
  {
   "cell_type": "code",
   "execution_count": 67,
   "id": "2fa7da51",
   "metadata": {},
   "outputs": [
    {
     "data": {
      "text/plain": [
       "array([1., 2., 3.])"
      ]
     },
     "execution_count": 67,
     "metadata": {},
     "output_type": "execute_result"
    }
   ],
   "source": [
    "np.median(a, axis=0)"
   ]
  },
  {
   "cell_type": "code",
   "execution_count": 68,
   "id": "f5f7e3ec",
   "metadata": {},
   "outputs": [
    {
     "data": {
      "text/plain": [
       "array([2.        , 5.        , 0.66666667])"
      ]
     },
     "execution_count": 68,
     "metadata": {},
     "output_type": "execute_result"
    }
   ],
   "source": [
    "a.mean(axis=1)"
   ]
  },
  {
   "cell_type": "code",
   "execution_count": 69,
   "id": "50759561",
   "metadata": {},
   "outputs": [
    {
     "data": {
      "text/plain": [
       "array([4, 5, 6])"
      ]
     },
     "execution_count": 69,
     "metadata": {},
     "output_type": "execute_result"
    }
   ],
   "source": [
    "np.max(a, axis=0)"
   ]
  },
  {
   "cell_type": "code",
   "execution_count": 70,
   "id": "b2bcb9bf",
   "metadata": {},
   "outputs": [],
   "source": [
    "a = np.array([0.01, 0.02, 0.1, 0.87, 0.0])"
   ]
  },
  {
   "cell_type": "code",
   "execution_count": 71,
   "id": "c4721d40",
   "metadata": {},
   "outputs": [
    {
     "data": {
      "text/plain": [
       "3"
      ]
     },
     "execution_count": 71,
     "metadata": {},
     "output_type": "execute_result"
    }
   ],
   "source": [
    "np.argmax(a)"
   ]
  },
  {
   "cell_type": "markdown",
   "id": "3e9bfb72",
   "metadata": {},
   "source": [
    "## SciPy"
   ]
  },
  {
   "cell_type": "markdown",
   "id": "cd9c3900",
   "metadata": {},
   "source": [
    "### Задача на площадь под кривой"
   ]
  },
  {
   "cell_type": "markdown",
   "id": "22890753",
   "metadata": {},
   "source": [
    "#### Решение через определенный интеграл"
   ]
  },
  {
   "cell_type": "code",
   "execution_count": 72,
   "id": "8f62b612",
   "metadata": {},
   "outputs": [],
   "source": [
    "from scipy.integrate import quad"
   ]
  },
  {
   "cell_type": "code",
   "execution_count": 73,
   "id": "678b75d2",
   "metadata": {},
   "outputs": [],
   "source": [
    "def f(x):\n",
    "    return -x**2 + 3 * x + 5"
   ]
  },
  {
   "cell_type": "code",
   "execution_count": 74,
   "id": "58794bdf",
   "metadata": {},
   "outputs": [],
   "source": [
    "sq, err = quad(f, 1, 4)"
   ]
  },
  {
   "cell_type": "code",
   "execution_count": 75,
   "id": "e7378c80",
   "metadata": {},
   "outputs": [
    {
     "name": "stdout",
     "output_type": "stream",
     "text": [
      "16.5 ± 0.000000000000183\n"
     ]
    }
   ],
   "source": [
    "print(f'{sq} ± {err:.15f}')"
   ]
  },
  {
   "cell_type": "markdown",
   "id": "4f01f6b8",
   "metadata": {},
   "source": [
    "#### Приближенное решение"
   ]
  },
  {
   "cell_type": "code",
   "execution_count": 76,
   "id": "aacf8b46",
   "metadata": {},
   "outputs": [],
   "source": [
    "from scipy.integrate import trapezoid"
   ]
  },
  {
   "cell_type": "code",
   "execution_count": 77,
   "id": "1b61bbf5",
   "metadata": {},
   "outputs": [],
   "source": [
    "x = np.linspace(0, 10, 200)"
   ]
  },
  {
   "cell_type": "code",
   "execution_count": 78,
   "id": "2a32b9db",
   "metadata": {},
   "outputs": [],
   "source": [
    "y = np.array([f(x) for x in x])"
   ]
  },
  {
   "cell_type": "code",
   "execution_count": 79,
   "id": "04060f3e",
   "metadata": {},
   "outputs": [
    {
     "data": {
      "text/plain": [
       "16.43114945957788"
      ]
     },
     "execution_count": 79,
     "metadata": {},
     "output_type": "execute_result"
    }
   ],
   "source": [
    "trapezoid(y[(x >=1) & (x < 4)], x[(x >=1) & (x < 4)])"
   ]
  },
  {
   "cell_type": "markdown",
   "id": "817175ec",
   "metadata": {},
   "source": [
    "#### Восстановление кривой по точкам"
   ]
  },
  {
   "cell_type": "code",
   "execution_count": 80,
   "id": "6c8db5c3",
   "metadata": {},
   "outputs": [],
   "source": [
    "from scipy.optimize import curve_fit"
   ]
  },
  {
   "cell_type": "code",
   "execution_count": 81,
   "id": "2f438929",
   "metadata": {},
   "outputs": [],
   "source": [
    "def func(x, a, b, c):\n",
    "    return a * x ** 2 + b * x + c"
   ]
  },
  {
   "cell_type": "code",
   "execution_count": 82,
   "id": "d54a6e71",
   "metadata": {},
   "outputs": [],
   "source": [
    "# noise = 0.1 * np.random.uniform(size=x.size)"
   ]
  },
  {
   "cell_type": "code",
   "execution_count": 83,
   "id": "92417cd7",
   "metadata": {},
   "outputs": [],
   "source": [
    "coefs, _ = curve_fit(func, x[(x >=1) & (x < 4)], (y)[(x >=1) & (x < 4)])"
   ]
  },
  {
   "cell_type": "code",
   "execution_count": 84,
   "id": "40c9bfb4",
   "metadata": {},
   "outputs": [
    {
     "data": {
      "text/plain": [
       "array([-1.,  3.,  5.])"
      ]
     },
     "execution_count": 84,
     "metadata": {},
     "output_type": "execute_result"
    }
   ],
   "source": [
    "coefs"
   ]
  },
  {
   "cell_type": "markdown",
   "id": "b4407f5f",
   "metadata": {},
   "source": [
    "#### Нахождение экстремума"
   ]
  },
  {
   "cell_type": "code",
   "execution_count": 85,
   "id": "e11a3e2e",
   "metadata": {},
   "outputs": [],
   "source": [
    "from scipy.optimize import minimize"
   ]
  },
  {
   "cell_type": "code",
   "execution_count": 86,
   "id": "c97c98b6",
   "metadata": {},
   "outputs": [
    {
     "data": {
      "text/plain": [
       "  message: Optimization terminated successfully.\n",
       "  success: True\n",
       "   status: 0\n",
       "      fun: -7.25\n",
       "        x: [ 1.500e+00]\n",
       "      nit: 2\n",
       "      jac: [ 5.960e-08]\n",
       " hess_inv: [[ 5.000e-01]]\n",
       "     nfev: 6\n",
       "     njev: 3"
      ]
     },
     "execution_count": 86,
     "metadata": {},
     "output_type": "execute_result"
    }
   ],
   "source": [
    "minimize(lambda x: -f(x), 0)"
   ]
  },
  {
   "cell_type": "code",
   "execution_count": 87,
   "id": "4f8dce48",
   "metadata": {},
   "outputs": [],
   "source": [
    "result = minimize(lambda x: -f(x), 0)"
   ]
  },
  {
   "cell_type": "code",
   "execution_count": 88,
   "id": "ea55a424",
   "metadata": {},
   "outputs": [
    {
     "name": "stdout",
     "output_type": "stream",
     "text": [
      "Max y = 7.25 at x = [1.50000001]\n"
     ]
    }
   ],
   "source": [
    "print(f'Max y = {-result[\"fun\"]} at x = {result[\"x\"]}')"
   ]
  },
  {
   "cell_type": "markdown",
   "id": "1eef7b3c",
   "metadata": {},
   "source": [
    "### Линейная алгебра"
   ]
  },
  {
   "cell_type": "code",
   "execution_count": 89,
   "id": "4abe1526",
   "metadata": {},
   "outputs": [],
   "source": [
    "a = np.array([[1, 2],\n",
    "             [3, 4]])\n",
    "b = np.array([[2, 2],\n",
    "              [0, 0]])"
   ]
  },
  {
   "cell_type": "code",
   "execution_count": 90,
   "id": "e5fab064",
   "metadata": {},
   "outputs": [
    {
     "data": {
      "text/plain": [
       "array([[2, 4],\n",
       "       [0, 0]])"
      ]
     },
     "execution_count": 90,
     "metadata": {},
     "output_type": "execute_result"
    }
   ],
   "source": [
    "a * b"
   ]
  },
  {
   "cell_type": "code",
   "execution_count": 91,
   "id": "b4fd0ef4",
   "metadata": {},
   "outputs": [
    {
     "data": {
      "text/plain": [
       "array([[2, 2],\n",
       "       [6, 6]])"
      ]
     },
     "execution_count": 91,
     "metadata": {},
     "output_type": "execute_result"
    }
   ],
   "source": [
    "a @ b"
   ]
  },
  {
   "cell_type": "code",
   "execution_count": 92,
   "id": "47beebae",
   "metadata": {},
   "outputs": [],
   "source": [
    "m = [[a[i] @ b.T[j] for j in range(b.T.shape[0])] for i in range(a.shape[0])]"
   ]
  },
  {
   "cell_type": "code",
   "execution_count": 93,
   "id": "e4c4dccd",
   "metadata": {},
   "outputs": [
    {
     "name": "stdout",
     "output_type": "stream",
     "text": [
      "[[2, 2], [6, 6]]\n"
     ]
    }
   ],
   "source": [
    "print(m)"
   ]
  },
  {
   "cell_type": "code",
   "execution_count": 94,
   "id": "eb9deafa",
   "metadata": {},
   "outputs": [
    {
     "data": {
      "text/plain": [
       "array([[ True,  True],\n",
       "       [ True,  True]])"
      ]
     },
     "execution_count": 94,
     "metadata": {},
     "output_type": "execute_result"
    }
   ],
   "source": [
    "m == a @ b"
   ]
  },
  {
   "cell_type": "code",
   "execution_count": 95,
   "id": "d84fefc7",
   "metadata": {},
   "outputs": [
    {
     "data": {
      "text/plain": [
       "True"
      ]
     },
     "execution_count": 95,
     "metadata": {},
     "output_type": "execute_result"
    }
   ],
   "source": [
    "np.array_equal(m, a @ b)"
   ]
  },
  {
   "cell_type": "code",
   "execution_count": 97,
   "id": "095b5c1f-78c1-4663-8d19-b441cefa0492",
   "metadata": {},
   "outputs": [
    {
     "data": {
      "text/plain": [
       "array([[1., 0.],\n",
       "       [0., 1.]])"
      ]
     },
     "execution_count": 97,
     "metadata": {},
     "output_type": "execute_result"
    }
   ],
   "source": [
    "np.eye(2)"
   ]
  },
  {
   "cell_type": "code",
   "execution_count": 98,
   "id": "7a74ce4d-7245-40e7-afe1-7cbd437b2dd6",
   "metadata": {},
   "outputs": [
    {
     "data": {
      "text/plain": [
       "array([[1., 2.],\n",
       "       [3., 4.]])"
      ]
     },
     "execution_count": 98,
     "metadata": {},
     "output_type": "execute_result"
    }
   ],
   "source": [
    "a @ np.eye(2)"
   ]
  },
  {
   "cell_type": "code",
   "execution_count": 99,
   "id": "dbde9868",
   "metadata": {},
   "outputs": [
    {
     "data": {
      "text/plain": [
       "True"
      ]
     },
     "execution_count": 99,
     "metadata": {},
     "output_type": "execute_result"
    }
   ],
   "source": [
    "np.array_equal(a, a @ np.eye(a.shape[0]))"
   ]
  },
  {
   "cell_type": "markdown",
   "id": "e00a083e",
   "metadata": {},
   "source": [
    "$$kX = y$$"
   ]
  },
  {
   "cell_type": "markdown",
   "id": "fd3e178e-17df-4f74-90df-b60f3fcc10dd",
   "metadata": {},
   "source": [
    "3x + 2y = 2\n",
    "\n",
    "x - y = 4\n",
    "\n",
    "5y + z = -1"
   ]
  },
  {
   "cell_type": "code",
   "execution_count": 100,
   "id": "82c6545b",
   "metadata": {},
   "outputs": [],
   "source": [
    "from scipy.linalg import inv, solve"
   ]
  },
  {
   "cell_type": "code",
   "execution_count": 101,
   "id": "ae91204c-aa35-4068-a391-edfde281bb58",
   "metadata": {},
   "outputs": [],
   "source": [
    "k = np.array([\n",
    "              [3, 2,  0],\n",
    "              [1, -1, 0],\n",
    "              [0, 5,  1]\n",
    "            ])"
   ]
  },
  {
   "cell_type": "code",
   "execution_count": 102,
   "id": "666e9530",
   "metadata": {},
   "outputs": [],
   "source": [
    "y = np.array([2, 4, -1])"
   ]
  },
  {
   "cell_type": "code",
   "execution_count": 103,
   "id": "836d4196",
   "metadata": {},
   "outputs": [
    {
     "data": {
      "text/plain": [
       "array([ 2., -2.,  9.])"
      ]
     },
     "execution_count": 103,
     "metadata": {},
     "output_type": "execute_result"
    }
   ],
   "source": [
    "inv(k) @ y"
   ]
  },
  {
   "cell_type": "code",
   "execution_count": 104,
   "id": "de0dcc67",
   "metadata": {},
   "outputs": [
    {
     "data": {
      "text/plain": [
       "array([ 2., -2.,  9.])"
      ]
     },
     "execution_count": 104,
     "metadata": {},
     "output_type": "execute_result"
    }
   ],
   "source": [
    "solve(k, y)"
   ]
  },
  {
   "cell_type": "code",
   "execution_count": 105,
   "id": "cab279de",
   "metadata": {},
   "outputs": [
    {
     "data": {
      "text/plain": [
       "array([ 2.,  4., -1.])"
      ]
     },
     "execution_count": 105,
     "metadata": {},
     "output_type": "execute_result"
    }
   ],
   "source": [
    "k @ np.array([ 2., -2.,  9.])"
   ]
  },
  {
   "cell_type": "markdown",
   "id": "6f5d4f8b-6824-4502-9bc2-b842bda2024f",
   "metadata": {},
   "source": [
    "# Домашнее задание"
   ]
  },
  {
   "cell_type": "markdown",
   "id": "fc05734c-e1b9-4570-8a4b-f7154190b699",
   "metadata": {},
   "source": [
    "## Easy"
   ]
  },
  {
   "cell_type": "markdown",
   "id": "5e66d222-243a-4f50-97de-d571bce2cd60",
   "metadata": {},
   "source": [
    "Решите систему линейных уравнений:\n",
    "3x - 2y = -6\n",
    "5x + y = 3"
   ]
  },
  {
   "cell_type": "code",
   "execution_count": null,
   "id": "2825ad6b-3ad1-4078-859b-42dfb9465549",
   "metadata": {},
   "outputs": [],
   "source": [
    "# Ваш код ниже:\n"
   ]
  },
  {
   "cell_type": "markdown",
   "id": "8c4f7b78-d2b5-41ea-8532-31d965149bae",
   "metadata": {},
   "source": [
    "## Normal / Hard"
   ]
  },
  {
   "cell_type": "markdown",
   "id": "a6c89694-da6b-4ccb-9053-63d54cdeb5f4",
   "metadata": {},
   "source": [
    "В репозитории лежит файл `00000e74ad.npy`. Он описывает процесс слияния двух черных дыр, зафиксированный с помощью лазерных интерферометров. Загрузите его в массив numpy. У вас должен получиться массив 3 * 4096 (три разных устройства делали запись одного события 2048 раз в секунду в течение 2 секунд).\n",
    "\n",
    "Отмасштабируйте сигнал (поделите все значения на максимальное по массиву)."
   ]
  },
  {
   "cell_type": "code",
   "execution_count": 55,
   "id": "8d108c61-e5d9-40c6-9e8d-83395e63f0fa",
   "metadata": {},
   "outputs": [],
   "source": [
    "# Ваш код ниже:\n"
   ]
  },
  {
   "cell_type": "markdown",
   "id": "1bd7b8c9-5b13-480f-86f6-b454df02eb87",
   "metadata": {},
   "source": [
    "## Только Hard"
   ]
  },
  {
   "cell_type": "markdown",
   "id": "0576f588-b045-4e94-abe0-517bf4aa3984",
   "metadata": {},
   "source": [
    "Самостоятельно ознакомьтесь с методами обработки сигнала в `scipy.signal`. Попробуйте отфильтровать сигнал в диапазоне 30-400 Гц."
   ]
  },
  {
   "cell_type": "code",
   "execution_count": 35,
   "id": "556326db-a748-40a2-b891-9b3d9819ba59",
   "metadata": {},
   "outputs": [],
   "source": [
    "from scipy import signal"
   ]
  },
  {
   "cell_type": "markdown",
   "id": "b2e04e79-a711-4bef-a35e-7cef1c10d220",
   "metadata": {},
   "source": [
    "<details>\n",
    "<summary>Подсказка (нажмите, чтобы посмотреть):</summary>\n",
    "Один из способов (используется фильтр Баттерворта, пропущенные аргументы заполняйте исходя из условия задачи):<br/>\n",
    "    <code>sos = signal.butter(__, [__, ___], btype=\"________\", output=\"sos\", fs=____)\n",
    "data_filt = signal.sosfilt(sos, ваш_массив, axis=1)</code>\n",
    "</details>"
   ]
  },
  {
   "cell_type": "code",
   "execution_count": 52,
   "id": "761fb96d-95e3-4c49-831c-9c6aeeef683b",
   "metadata": {},
   "outputs": [],
   "source": [
    "# Ваш код ниже\n"
   ]
  },
  {
   "cell_type": "markdown",
   "id": "259c5ce1-7c3e-416b-9fcb-eba174867e4e",
   "metadata": {},
   "source": [
    "Сделайте три аугментированные версии отфильтрованного сигнала:\n",
    "- поменяйте первую и вторую строки местами;\n",
    "- переверните все строки задом наперед;\n",
    "- сдвиньте сигнал с помощью `roll` на 5 мс вперед или назад.\n",
    "\n",
    "Сохраните результаты в отдельные npy-файлы."
   ]
  }
 ],
 "metadata": {
  "kernelspec": {
   "display_name": "Python 3 (ipykernel)",
   "language": "python",
   "name": "python3"
  },
  "language_info": {
   "codemirror_mode": {
    "name": "ipython",
    "version": 3
   },
   "file_extension": ".py",
   "mimetype": "text/x-python",
   "name": "python",
   "nbconvert_exporter": "python",
   "pygments_lexer": "ipython3",
   "version": "3.10.10"
  },
  "widgets": {
   "application/vnd.jupyter.widget-state+json": {
    "state": {},
    "version_major": 2,
    "version_minor": 0
   }
  }
 },
 "nbformat": 4,
 "nbformat_minor": 5
}

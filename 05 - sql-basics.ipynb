{
 "cells": [
  {
   "cell_type": "markdown",
   "id": "a6a0def3-c473-40d9-a5fc-0e0503ee02e4",
   "metadata": {},
   "source": [
    "# Извлечение данных"
   ]
  },
  {
   "cell_type": "markdown",
   "id": "b0243336-e5ca-4b9b-9897-96a4c6d6bf42",
   "metadata": {},
   "source": [
    "На этом занятии мы расследуем загадочное убийство с помощью SQL-запросов!"
   ]
  },
  {
   "cell_type": "code",
   "execution_count": 1,
   "id": "cdfa2e97-ecc6-49cf-89a0-21298a89ba2e",
   "metadata": {},
   "outputs": [
    {
     "name": "stdout",
     "output_type": "stream",
     "text": [
      "fatal: целевой путь «sql-mysteries» уже существует и не является пустым каталогом.\n"
     ]
    }
   ],
   "source": [
    "!git clone https://github.com/NUKnightLab/sql-mysteries.git"
   ]
  },
  {
   "cell_type": "markdown",
   "id": "edc4792d-8128-4b35-9dd5-da9f10aecc7b",
   "metadata": {},
   "source": [
    "[Задание](sql-mysteries/prompt_beginner.pdf)"
   ]
  },
  {
   "cell_type": "markdown",
   "id": "eab2e7ef-f885-49be-b424-990e53d3f834",
   "metadata": {},
   "source": [
    "Схема базы данных:"
   ]
  },
  {
   "cell_type": "markdown",
   "id": "2795b7ff-439a-481f-9ba3-84e7d1e9f3e3",
   "metadata": {},
   "source": [
    "<img src = \"sql-mysteries/schema.png\"/>"
   ]
  },
  {
   "cell_type": "markdown",
   "id": "10ad927b-e93e-44ce-a53b-d00ca0805382",
   "metadata": {},
   "source": [
    "## Подключение и работа с базой данных на примере SQLite"
   ]
  },
  {
   "cell_type": "code",
   "execution_count": 2,
   "id": "7dec5395-f2b0-4a96-85bb-ee76f08058e0",
   "metadata": {},
   "outputs": [],
   "source": [
    "import sqlite3\n",
    "import pandas as pd"
   ]
  },
  {
   "cell_type": "code",
   "execution_count": 3,
   "id": "237368b3-60dc-4451-918e-96805c8fb88b",
   "metadata": {},
   "outputs": [],
   "source": [
    "connection = sqlite3.connect('sql-mysteries/sql-murder-mystery.db')"
   ]
  },
  {
   "cell_type": "code",
   "execution_count": 4,
   "id": "7edf4936-c80f-47b8-bf78-fd9a310c764e",
   "metadata": {},
   "outputs": [],
   "source": [
    "with connection:\n",
    "    message_list = connection.execute(\n",
    "        \"\"\"\n",
    "        SELECT * FROM crime_scene_report\n",
    "        ;\n",
    "        \"\"\"\n",
    "    )"
   ]
  },
  {
   "cell_type": "code",
   "execution_count": 5,
   "id": "796927f4-f168-4b86-a1b0-24478b8e5bdc",
   "metadata": {},
   "outputs": [
    {
     "name": "stdout",
     "output_type": "stream",
     "text": [
      "(20180115, 'robbery', 'A Man Dressed as Spider-Man Is on a Robbery Spree', 'NYC')\n",
      "(20180115, 'murder', 'Life? Dont talk to me about life.', 'Albany')\n",
      "(20180115, 'murder', 'Mama, I killed a man, put a gun against his head...', 'Reno')\n",
      "(20180215, 'murder', 'REDACTED REDACTED REDACTED', 'SQL City')\n",
      "(20180215, 'murder', 'Someone killed the guard! He took an arrow to the knee!', 'SQL City')\n",
      "(20180115, 'theft', 'Big Bully stole my lunch money!', 'Chicago')\n",
      "(20180115, 'fraud', 'Lorem ipsum dolor sit amet, consectetur adipiscing elit, sed do\\n            eiusmod tempor incididunt ut labore et dolore magna aliqua.', 'Seattle')\n"
     ]
    }
   ],
   "source": [
    "for n, item in enumerate(message_list):\n",
    "    print(item)\n",
    "    if n > 5:\n",
    "        break"
   ]
  },
  {
   "cell_type": "markdown",
   "id": "7ec4c5b3-a922-4739-a55c-e1976e23d65c",
   "metadata": {},
   "source": [
    "Для подключения к другим серверам можно воспользоваться модулем sqlalchemy:"
   ]
  },
  {
   "cell_type": "code",
   "execution_count": 6,
   "id": "7a42424c-d474-4dd6-9d5f-e055f6651eb3",
   "metadata": {},
   "outputs": [],
   "source": [
    "# from sqlalchemy import create_engine\n",
    "# connection = create_engine(\"postgresql:///?User=username&;Password=password&Database=database_name&Server=127.0.0.1&Port=5432\")"
   ]
  },
  {
   "cell_type": "markdown",
   "id": "8f63a123-1fab-417d-a37e-d7124103f9cf",
   "metadata": {},
   "source": [
    "### Работа с подключением через Pandas"
   ]
  },
  {
   "cell_type": "code",
   "execution_count": 7,
   "id": "b7a4e66f-4d6e-44b1-afef-6a3abb0df9d4",
   "metadata": {},
   "outputs": [
    {
     "data": {
      "text/html": [
       "<div>\n",
       "<style scoped>\n",
       "    .dataframe tbody tr th:only-of-type {\n",
       "        vertical-align: middle;\n",
       "    }\n",
       "\n",
       "    .dataframe tbody tr th {\n",
       "        vertical-align: top;\n",
       "    }\n",
       "\n",
       "    .dataframe thead th {\n",
       "        text-align: right;\n",
       "    }\n",
       "</style>\n",
       "<table border=\"1\" class=\"dataframe\">\n",
       "  <thead>\n",
       "    <tr style=\"text-align: right;\">\n",
       "      <th></th>\n",
       "      <th>date</th>\n",
       "      <th>type</th>\n",
       "      <th>description</th>\n",
       "      <th>city</th>\n",
       "    </tr>\n",
       "  </thead>\n",
       "  <tbody>\n",
       "    <tr>\n",
       "      <th>0</th>\n",
       "      <td>20180115</td>\n",
       "      <td>robbery</td>\n",
       "      <td>A Man Dressed as Spider-Man Is on a Robbery Spree</td>\n",
       "      <td>NYC</td>\n",
       "    </tr>\n",
       "    <tr>\n",
       "      <th>1</th>\n",
       "      <td>20180115</td>\n",
       "      <td>murder</td>\n",
       "      <td>Life? Dont talk to me about life.</td>\n",
       "      <td>Albany</td>\n",
       "    </tr>\n",
       "    <tr>\n",
       "      <th>2</th>\n",
       "      <td>20180115</td>\n",
       "      <td>murder</td>\n",
       "      <td>Mama, I killed a man, put a gun against his he...</td>\n",
       "      <td>Reno</td>\n",
       "    </tr>\n",
       "    <tr>\n",
       "      <th>3</th>\n",
       "      <td>20180215</td>\n",
       "      <td>murder</td>\n",
       "      <td>REDACTED REDACTED REDACTED</td>\n",
       "      <td>SQL City</td>\n",
       "    </tr>\n",
       "    <tr>\n",
       "      <th>4</th>\n",
       "      <td>20180215</td>\n",
       "      <td>murder</td>\n",
       "      <td>Someone killed the guard! He took an arrow to ...</td>\n",
       "      <td>SQL City</td>\n",
       "    </tr>\n",
       "    <tr>\n",
       "      <th>...</th>\n",
       "      <td>...</td>\n",
       "      <td>...</td>\n",
       "      <td>...</td>\n",
       "      <td>...</td>\n",
       "    </tr>\n",
       "    <tr>\n",
       "      <th>1223</th>\n",
       "      <td>20180430</td>\n",
       "      <td>bribery</td>\n",
       "      <td>\\n</td>\n",
       "      <td>Garden Grove</td>\n",
       "    </tr>\n",
       "    <tr>\n",
       "      <th>1224</th>\n",
       "      <td>20180430</td>\n",
       "      <td>fraud</td>\n",
       "      <td>‘Why not?’ said the March Hare.\\n</td>\n",
       "      <td>Houma</td>\n",
       "    </tr>\n",
       "    <tr>\n",
       "      <th>1225</th>\n",
       "      <td>20180430</td>\n",
       "      <td>assault</td>\n",
       "      <td>\\n</td>\n",
       "      <td>Fontana</td>\n",
       "    </tr>\n",
       "    <tr>\n",
       "      <th>1226</th>\n",
       "      <td>20180501</td>\n",
       "      <td>assault</td>\n",
       "      <td>be NO mistake about it: it was neither more no...</td>\n",
       "      <td>Trenton</td>\n",
       "    </tr>\n",
       "    <tr>\n",
       "      <th>1227</th>\n",
       "      <td>20180115</td>\n",
       "      <td>murder</td>\n",
       "      <td>Security footage shows that there were 2 witne...</td>\n",
       "      <td>SQL City</td>\n",
       "    </tr>\n",
       "  </tbody>\n",
       "</table>\n",
       "<p>1228 rows × 4 columns</p>\n",
       "</div>"
      ],
      "text/plain": [
       "          date     type                                        description   \n",
       "0     20180115  robbery  A Man Dressed as Spider-Man Is on a Robbery Spree  \\\n",
       "1     20180115   murder                  Life? Dont talk to me about life.   \n",
       "2     20180115   murder  Mama, I killed a man, put a gun against his he...   \n",
       "3     20180215   murder                         REDACTED REDACTED REDACTED   \n",
       "4     20180215   murder  Someone killed the guard! He took an arrow to ...   \n",
       "...        ...      ...                                                ...   \n",
       "1223  20180430  bribery                                                 \\n   \n",
       "1224  20180430    fraud                  ‘Why not?’ said the March Hare.\\n   \n",
       "1225  20180430  assault                                                 \\n   \n",
       "1226  20180501  assault  be NO mistake about it: it was neither more no...   \n",
       "1227  20180115   murder  Security footage shows that there were 2 witne...   \n",
       "\n",
       "              city  \n",
       "0              NYC  \n",
       "1           Albany  \n",
       "2             Reno  \n",
       "3         SQL City  \n",
       "4         SQL City  \n",
       "...            ...  \n",
       "1223  Garden Grove  \n",
       "1224         Houma  \n",
       "1225       Fontana  \n",
       "1226       Trenton  \n",
       "1227      SQL City  \n",
       "\n",
       "[1228 rows x 4 columns]"
      ]
     },
     "execution_count": 7,
     "metadata": {},
     "output_type": "execute_result"
    }
   ],
   "source": [
    "pd.read_sql(\n",
    "        \"\"\"\n",
    "        SELECT * FROM crime_scene_report\n",
    "        ;\n",
    "        \"\"\",\n",
    "        connection)"
   ]
  },
  {
   "cell_type": "markdown",
   "id": "701ffc92-2d4b-4610-b6ca-0b801d75aaff",
   "metadata": {},
   "source": [
    "### Условия и сортировка в запросе SELECT"
   ]
  },
  {
   "cell_type": "code",
   "execution_count": 8,
   "id": "e37ab26d-ee74-4610-b8d8-95dd279fd99c",
   "metadata": {},
   "outputs": [],
   "source": [
    "df = pd.read_sql(\n",
    "        \"\"\"\n",
    "        SELECT * FROM crime_scene_report\n",
    "        WHERE type = \"murder\"\n",
    "        AND date = 20180115\n",
    "        AND city = \"SQL City\"\n",
    "        ;\n",
    "        \"\"\",\n",
    "        connection)"
   ]
  },
  {
   "cell_type": "code",
   "execution_count": 9,
   "id": "0fdfeca2-6a7b-47e2-bcdf-30a128bc4705",
   "metadata": {},
   "outputs": [
    {
     "data": {
      "text/html": [
       "<div>\n",
       "<style scoped>\n",
       "    .dataframe tbody tr th:only-of-type {\n",
       "        vertical-align: middle;\n",
       "    }\n",
       "\n",
       "    .dataframe tbody tr th {\n",
       "        vertical-align: top;\n",
       "    }\n",
       "\n",
       "    .dataframe thead th {\n",
       "        text-align: right;\n",
       "    }\n",
       "</style>\n",
       "<table border=\"1\" class=\"dataframe\">\n",
       "  <thead>\n",
       "    <tr style=\"text-align: right;\">\n",
       "      <th></th>\n",
       "      <th>date</th>\n",
       "      <th>type</th>\n",
       "      <th>description</th>\n",
       "      <th>city</th>\n",
       "    </tr>\n",
       "  </thead>\n",
       "  <tbody>\n",
       "    <tr>\n",
       "      <th>0</th>\n",
       "      <td>20180115</td>\n",
       "      <td>murder</td>\n",
       "      <td>Security footage shows that there were 2 witne...</td>\n",
       "      <td>SQL City</td>\n",
       "    </tr>\n",
       "  </tbody>\n",
       "</table>\n",
       "</div>"
      ],
      "text/plain": [
       "       date    type                                        description   \n",
       "0  20180115  murder  Security footage shows that there were 2 witne...  \\\n",
       "\n",
       "       city  \n",
       "0  SQL City  "
      ]
     },
     "execution_count": 9,
     "metadata": {},
     "output_type": "execute_result"
    }
   ],
   "source": [
    "df"
   ]
  },
  {
   "cell_type": "code",
   "execution_count": 10,
   "id": "f238665a-ccb7-4b42-b81c-3e89e1e8caa3",
   "metadata": {},
   "outputs": [
    {
     "data": {
      "text/plain": [
       "'Security footage shows that there were 2 witnesses. The first witness lives at the last house on \"Northwestern Dr\". The second witness, named Annabel, lives somewhere on \"Franklin Ave\".'"
      ]
     },
     "execution_count": 10,
     "metadata": {},
     "output_type": "execute_result"
    }
   ],
   "source": [
    "df['description'].loc[0]"
   ]
  },
  {
   "cell_type": "code",
   "execution_count": 11,
   "id": "36c040ea-ecc6-4840-af0b-cf0c814ddb34",
   "metadata": {},
   "outputs": [],
   "source": [
    "df = pd.read_sql(\n",
    "        \"\"\"\n",
    "        SELECT * FROM person\n",
    "        ;\n",
    "        \"\"\",\n",
    "        connection)"
   ]
  },
  {
   "cell_type": "code",
   "execution_count": 12,
   "id": "5e323a84-81c4-459c-a5f1-91eb73665660",
   "metadata": {},
   "outputs": [
    {
     "data": {
      "text/html": [
       "<div>\n",
       "<style scoped>\n",
       "    .dataframe tbody tr th:only-of-type {\n",
       "        vertical-align: middle;\n",
       "    }\n",
       "\n",
       "    .dataframe tbody tr th {\n",
       "        vertical-align: top;\n",
       "    }\n",
       "\n",
       "    .dataframe thead th {\n",
       "        text-align: right;\n",
       "    }\n",
       "</style>\n",
       "<table border=\"1\" class=\"dataframe\">\n",
       "  <thead>\n",
       "    <tr style=\"text-align: right;\">\n",
       "      <th></th>\n",
       "      <th>id</th>\n",
       "      <th>name</th>\n",
       "      <th>license_id</th>\n",
       "      <th>address_number</th>\n",
       "      <th>address_street_name</th>\n",
       "      <th>ssn</th>\n",
       "    </tr>\n",
       "  </thead>\n",
       "  <tbody>\n",
       "    <tr>\n",
       "      <th>0</th>\n",
       "      <td>10000</td>\n",
       "      <td>Christoper Peteuil</td>\n",
       "      <td>993845</td>\n",
       "      <td>624</td>\n",
       "      <td>Bankhall Ave</td>\n",
       "      <td>747714076</td>\n",
       "    </tr>\n",
       "    <tr>\n",
       "      <th>1</th>\n",
       "      <td>10007</td>\n",
       "      <td>Kourtney Calderwood</td>\n",
       "      <td>861794</td>\n",
       "      <td>2791</td>\n",
       "      <td>Gustavus Blvd</td>\n",
       "      <td>477972044</td>\n",
       "    </tr>\n",
       "    <tr>\n",
       "      <th>2</th>\n",
       "      <td>10010</td>\n",
       "      <td>Muoi Cary</td>\n",
       "      <td>385336</td>\n",
       "      <td>741</td>\n",
       "      <td>Northwestern Dr</td>\n",
       "      <td>828638512</td>\n",
       "    </tr>\n",
       "    <tr>\n",
       "      <th>3</th>\n",
       "      <td>10016</td>\n",
       "      <td>Era Moselle</td>\n",
       "      <td>431897</td>\n",
       "      <td>1987</td>\n",
       "      <td>Wood Glade St</td>\n",
       "      <td>614621061</td>\n",
       "    </tr>\n",
       "    <tr>\n",
       "      <th>4</th>\n",
       "      <td>10025</td>\n",
       "      <td>Trena Hornby</td>\n",
       "      <td>550890</td>\n",
       "      <td>276</td>\n",
       "      <td>Daws Hill Way</td>\n",
       "      <td>223877684</td>\n",
       "    </tr>\n",
       "  </tbody>\n",
       "</table>\n",
       "</div>"
      ],
      "text/plain": [
       "      id                 name  license_id  address_number address_street_name   \n",
       "0  10000   Christoper Peteuil      993845             624        Bankhall Ave  \\\n",
       "1  10007  Kourtney Calderwood      861794            2791       Gustavus Blvd   \n",
       "2  10010            Muoi Cary      385336             741     Northwestern Dr   \n",
       "3  10016          Era Moselle      431897            1987       Wood Glade St   \n",
       "4  10025         Trena Hornby      550890             276       Daws Hill Way   \n",
       "\n",
       "         ssn  \n",
       "0  747714076  \n",
       "1  477972044  \n",
       "2  828638512  \n",
       "3  614621061  \n",
       "4  223877684  "
      ]
     },
     "execution_count": 12,
     "metadata": {},
     "output_type": "execute_result"
    }
   ],
   "source": [
    "df.head()"
   ]
  },
  {
   "cell_type": "code",
   "execution_count": 13,
   "id": "fa3ddb37-6875-41a7-8754-63e89ac59010",
   "metadata": {},
   "outputs": [
    {
     "data": {
      "text/html": [
       "<div>\n",
       "<style scoped>\n",
       "    .dataframe tbody tr th:only-of-type {\n",
       "        vertical-align: middle;\n",
       "    }\n",
       "\n",
       "    .dataframe tbody tr th {\n",
       "        vertical-align: top;\n",
       "    }\n",
       "\n",
       "    .dataframe thead th {\n",
       "        text-align: right;\n",
       "    }\n",
       "</style>\n",
       "<table border=\"1\" class=\"dataframe\">\n",
       "  <thead>\n",
       "    <tr style=\"text-align: right;\">\n",
       "      <th></th>\n",
       "      <th>id</th>\n",
       "      <th>name</th>\n",
       "      <th>license_id</th>\n",
       "      <th>address_number</th>\n",
       "      <th>address_street_name</th>\n",
       "      <th>ssn</th>\n",
       "    </tr>\n",
       "  </thead>\n",
       "  <tbody>\n",
       "    <tr>\n",
       "      <th>0</th>\n",
       "      <td>14887</td>\n",
       "      <td>Morty Schapiro</td>\n",
       "      <td>118009</td>\n",
       "      <td>4919</td>\n",
       "      <td>Northwestern Dr</td>\n",
       "      <td>111564949</td>\n",
       "    </tr>\n",
       "    <tr>\n",
       "      <th>1</th>\n",
       "      <td>17729</td>\n",
       "      <td>Lasonya Wildey</td>\n",
       "      <td>439686</td>\n",
       "      <td>3824</td>\n",
       "      <td>Northwestern Dr</td>\n",
       "      <td>917817122</td>\n",
       "    </tr>\n",
       "    <tr>\n",
       "      <th>2</th>\n",
       "      <td>53890</td>\n",
       "      <td>Sophie Tiberio</td>\n",
       "      <td>957671</td>\n",
       "      <td>3755</td>\n",
       "      <td>Northwestern Dr</td>\n",
       "      <td>442830147</td>\n",
       "    </tr>\n",
       "    <tr>\n",
       "      <th>3</th>\n",
       "      <td>73368</td>\n",
       "      <td>Torie Thalmann</td>\n",
       "      <td>773862</td>\n",
       "      <td>3697</td>\n",
       "      <td>Northwestern Dr</td>\n",
       "      <td>341559436</td>\n",
       "    </tr>\n",
       "    <tr>\n",
       "      <th>4</th>\n",
       "      <td>96595</td>\n",
       "      <td>Coretta Cubie</td>\n",
       "      <td>303645</td>\n",
       "      <td>3631</td>\n",
       "      <td>Northwestern Dr</td>\n",
       "      <td>378403829</td>\n",
       "    </tr>\n",
       "  </tbody>\n",
       "</table>\n",
       "</div>"
      ],
      "text/plain": [
       "      id            name  license_id  address_number address_street_name   \n",
       "0  14887  Morty Schapiro      118009            4919     Northwestern Dr  \\\n",
       "1  17729  Lasonya Wildey      439686            3824     Northwestern Dr   \n",
       "2  53890  Sophie Tiberio      957671            3755     Northwestern Dr   \n",
       "3  73368  Torie Thalmann      773862            3697     Northwestern Dr   \n",
       "4  96595   Coretta Cubie      303645            3631     Northwestern Dr   \n",
       "\n",
       "         ssn  \n",
       "0  111564949  \n",
       "1  917817122  \n",
       "2  442830147  \n",
       "3  341559436  \n",
       "4  378403829  "
      ]
     },
     "execution_count": 13,
     "metadata": {},
     "output_type": "execute_result"
    }
   ],
   "source": [
    "pd.read_sql(\n",
    "        \"\"\"\n",
    "        SELECT * FROM person\n",
    "        WHERE address_street_name = \"Northwestern Dr\"\n",
    "        ORDER BY address_number DESC\n",
    "        ;\n",
    "        \"\"\",\n",
    "        connection).head()"
   ]
  },
  {
   "cell_type": "markdown",
   "id": "392cf7c1-e146-4af1-a74e-56f10df9775b",
   "metadata": {},
   "source": [
    "#### Самостоятельная работа\n",
    "\n",
    "Найдите второго свидетеля."
   ]
  },
  {
   "cell_type": "code",
   "execution_count": 14,
   "id": "ae649137-d086-4d5b-91f9-df5d41b180f3",
   "metadata": {},
   "outputs": [],
   "source": [
    "## Ваш код ниже:\n"
   ]
  },
  {
   "cell_type": "markdown",
   "id": "45bef6b5-95d7-47f2-bb82-6dca68c8d2c5",
   "metadata": {},
   "source": [
    "### Объединение таблиц"
   ]
  },
  {
   "cell_type": "code",
   "execution_count": 15,
   "id": "147c29de-d88a-4bb8-a944-2d8e8c655c18",
   "metadata": {},
   "outputs": [
    {
     "data": {
      "text/html": [
       "<div>\n",
       "<style scoped>\n",
       "    .dataframe tbody tr th:only-of-type {\n",
       "        vertical-align: middle;\n",
       "    }\n",
       "\n",
       "    .dataframe tbody tr th {\n",
       "        vertical-align: top;\n",
       "    }\n",
       "\n",
       "    .dataframe thead th {\n",
       "        text-align: right;\n",
       "    }\n",
       "</style>\n",
       "<table border=\"1\" class=\"dataframe\">\n",
       "  <thead>\n",
       "    <tr style=\"text-align: right;\">\n",
       "      <th></th>\n",
       "      <th>id</th>\n",
       "      <th>name</th>\n",
       "      <th>license_id</th>\n",
       "      <th>address_number</th>\n",
       "      <th>address_street_name</th>\n",
       "      <th>ssn</th>\n",
       "      <th>person_id</th>\n",
       "      <th>transcript</th>\n",
       "    </tr>\n",
       "  </thead>\n",
       "  <tbody>\n",
       "    <tr>\n",
       "      <th>0</th>\n",
       "      <td>28508</td>\n",
       "      <td>Raylene Goldsby</td>\n",
       "      <td>531984</td>\n",
       "      <td>1696</td>\n",
       "      <td>S Holland St</td>\n",
       "      <td>817820356</td>\n",
       "      <td>28508</td>\n",
       "      <td>‘I deny it!’ said the March Hare.\\n</td>\n",
       "    </tr>\n",
       "    <tr>\n",
       "      <th>1</th>\n",
       "      <td>63713</td>\n",
       "      <td>Josh Cunnane</td>\n",
       "      <td>990581</td>\n",
       "      <td>3445</td>\n",
       "      <td>Evers Way</td>\n",
       "      <td>334859137</td>\n",
       "      <td>63713</td>\n",
       "      <td>\\n</td>\n",
       "    </tr>\n",
       "    <tr>\n",
       "      <th>2</th>\n",
       "      <td>86208</td>\n",
       "      <td>Samual Sojourner</td>\n",
       "      <td>902792</td>\n",
       "      <td>2703</td>\n",
       "      <td>S Carlinda Way</td>\n",
       "      <td>504537535</td>\n",
       "      <td>86208</td>\n",
       "      <td>way, and the whole party swam to the shore.\\n</td>\n",
       "    </tr>\n",
       "    <tr>\n",
       "      <th>3</th>\n",
       "      <td>35267</td>\n",
       "      <td>Johana Lugardo</td>\n",
       "      <td>648853</td>\n",
       "      <td>830</td>\n",
       "      <td>Dulles Toll St</td>\n",
       "      <td>163403073</td>\n",
       "      <td>35267</td>\n",
       "      <td>lessons in here? Why, there’s hardly room for ...</td>\n",
       "    </tr>\n",
       "    <tr>\n",
       "      <th>4</th>\n",
       "      <td>33856</td>\n",
       "      <td>Bernie Shelmon</td>\n",
       "      <td>928638</td>\n",
       "      <td>316</td>\n",
       "      <td>Marl Pat Rd</td>\n",
       "      <td>789619111</td>\n",
       "      <td>33856</td>\n",
       "      <td>\\n</td>\n",
       "    </tr>\n",
       "  </tbody>\n",
       "</table>\n",
       "</div>"
      ],
      "text/plain": [
       "      id              name  license_id  address_number address_street_name   \n",
       "0  28508   Raylene Goldsby      531984            1696        S Holland St  \\\n",
       "1  63713      Josh Cunnane      990581            3445           Evers Way   \n",
       "2  86208  Samual Sojourner      902792            2703      S Carlinda Way   \n",
       "3  35267    Johana Lugardo      648853             830      Dulles Toll St   \n",
       "4  33856    Bernie Shelmon      928638             316         Marl Pat Rd   \n",
       "\n",
       "         ssn  person_id                                         transcript  \n",
       "0  817820356      28508                ‘I deny it!’ said the March Hare.\\n  \n",
       "1  334859137      63713                                                 \\n  \n",
       "2  504537535      86208      way, and the whole party swam to the shore.\\n  \n",
       "3  163403073      35267  lessons in here? Why, there’s hardly room for ...  \n",
       "4  789619111      33856                                                 \\n  "
      ]
     },
     "execution_count": 15,
     "metadata": {},
     "output_type": "execute_result"
    }
   ],
   "source": [
    "pd.read_sql(\n",
    "        \"\"\"\n",
    "        SELECT * FROM \n",
    "        person INNER JOIN interview ON person.id = interview.person_id\n",
    "        ;\n",
    "        \"\"\",\n",
    "        connection).head()"
   ]
  },
  {
   "cell_type": "code",
   "execution_count": 16,
   "id": "7d9f18c5-3663-4146-8aee-2d52e7c26cf0",
   "metadata": {},
   "outputs": [],
   "source": [
    "df = pd.read_sql(\n",
    "        \"\"\"\n",
    "        SELECT * FROM \n",
    "        person INNER JOIN interview ON person.id = interview.person_id\n",
    "        WHERE id = 14887 or id = 16371\n",
    "        ;\n",
    "        \"\"\",\n",
    "        connection)"
   ]
  },
  {
   "cell_type": "code",
   "execution_count": 17,
   "id": "e16a0b42-ace5-45fb-a1dc-6c4402e6f06c",
   "metadata": {},
   "outputs": [
    {
     "data": {
      "text/html": [
       "<div>\n",
       "<style scoped>\n",
       "    .dataframe tbody tr th:only-of-type {\n",
       "        vertical-align: middle;\n",
       "    }\n",
       "\n",
       "    .dataframe tbody tr th {\n",
       "        vertical-align: top;\n",
       "    }\n",
       "\n",
       "    .dataframe thead th {\n",
       "        text-align: right;\n",
       "    }\n",
       "</style>\n",
       "<table border=\"1\" class=\"dataframe\">\n",
       "  <thead>\n",
       "    <tr style=\"text-align: right;\">\n",
       "      <th></th>\n",
       "      <th>id</th>\n",
       "      <th>name</th>\n",
       "      <th>license_id</th>\n",
       "      <th>address_number</th>\n",
       "      <th>address_street_name</th>\n",
       "      <th>ssn</th>\n",
       "      <th>person_id</th>\n",
       "      <th>transcript</th>\n",
       "    </tr>\n",
       "  </thead>\n",
       "  <tbody>\n",
       "    <tr>\n",
       "      <th>0</th>\n",
       "      <td>14887</td>\n",
       "      <td>Morty Schapiro</td>\n",
       "      <td>118009</td>\n",
       "      <td>4919</td>\n",
       "      <td>Northwestern Dr</td>\n",
       "      <td>111564949</td>\n",
       "      <td>14887</td>\n",
       "      <td>I heard a gunshot and then saw a man run out. ...</td>\n",
       "    </tr>\n",
       "    <tr>\n",
       "      <th>1</th>\n",
       "      <td>16371</td>\n",
       "      <td>Annabel Miller</td>\n",
       "      <td>490173</td>\n",
       "      <td>103</td>\n",
       "      <td>Franklin Ave</td>\n",
       "      <td>318771143</td>\n",
       "      <td>16371</td>\n",
       "      <td>I saw the murder happen, and I recognized the ...</td>\n",
       "    </tr>\n",
       "  </tbody>\n",
       "</table>\n",
       "</div>"
      ],
      "text/plain": [
       "      id            name  license_id  address_number address_street_name   \n",
       "0  14887  Morty Schapiro      118009            4919     Northwestern Dr  \\\n",
       "1  16371  Annabel Miller      490173             103        Franklin Ave   \n",
       "\n",
       "         ssn  person_id                                         transcript  \n",
       "0  111564949      14887  I heard a gunshot and then saw a man run out. ...  \n",
       "1  318771143      16371  I saw the murder happen, and I recognized the ...  "
      ]
     },
     "execution_count": 17,
     "metadata": {},
     "output_type": "execute_result"
    }
   ],
   "source": [
    "df"
   ]
  },
  {
   "cell_type": "code",
   "execution_count": 18,
   "id": "4c660eb8-ab7c-4dd5-a7b0-5007e0cfd724",
   "metadata": {},
   "outputs": [
    {
     "data": {
      "text/plain": [
       "'I heard a gunshot and then saw a man run out. He had a \"Get Fit Now Gym\" bag. The membership number on the bag started with \"48Z\". Only gold members have those bags. The man got into a car with a plate that included \"H42W\".'"
      ]
     },
     "execution_count": 18,
     "metadata": {},
     "output_type": "execute_result"
    }
   ],
   "source": [
    "df['transcript'].loc[0]"
   ]
  },
  {
   "cell_type": "code",
   "execution_count": 19,
   "id": "56d8ef8d-5f3b-4a4e-a596-0d8b6bc38307",
   "metadata": {},
   "outputs": [
    {
     "data": {
      "text/plain": [
       "'I saw the murder happen, and I recognized the killer from my gym when I was working out last week on January the 9th.'"
      ]
     },
     "execution_count": 19,
     "metadata": {},
     "output_type": "execute_result"
    }
   ],
   "source": [
    "df['transcript'].loc[1]"
   ]
  },
  {
   "cell_type": "code",
   "execution_count": 20,
   "id": "928d8562-04a8-4725-94d5-9149a6fbf3c2",
   "metadata": {},
   "outputs": [
    {
     "data": {
      "text/html": [
       "<div>\n",
       "<style scoped>\n",
       "    .dataframe tbody tr th:only-of-type {\n",
       "        vertical-align: middle;\n",
       "    }\n",
       "\n",
       "    .dataframe tbody tr th {\n",
       "        vertical-align: top;\n",
       "    }\n",
       "\n",
       "    .dataframe thead th {\n",
       "        text-align: right;\n",
       "    }\n",
       "</style>\n",
       "<table border=\"1\" class=\"dataframe\">\n",
       "  <thead>\n",
       "    <tr style=\"text-align: right;\">\n",
       "      <th></th>\n",
       "      <th>id</th>\n",
       "      <th>person_id</th>\n",
       "      <th>name</th>\n",
       "      <th>membership_start_date</th>\n",
       "      <th>membership_status</th>\n",
       "      <th>membership_id</th>\n",
       "      <th>check_in_date</th>\n",
       "      <th>check_in_time</th>\n",
       "      <th>check_out_time</th>\n",
       "    </tr>\n",
       "  </thead>\n",
       "  <tbody>\n",
       "    <tr>\n",
       "      <th>0</th>\n",
       "      <td>48Z7A</td>\n",
       "      <td>28819</td>\n",
       "      <td>Joe Germuska</td>\n",
       "      <td>20160305</td>\n",
       "      <td>gold</td>\n",
       "      <td>48Z7A</td>\n",
       "      <td>20180109</td>\n",
       "      <td>1600</td>\n",
       "      <td>1730</td>\n",
       "    </tr>\n",
       "    <tr>\n",
       "      <th>1</th>\n",
       "      <td>48Z55</td>\n",
       "      <td>67318</td>\n",
       "      <td>Jeremy Bowers</td>\n",
       "      <td>20160101</td>\n",
       "      <td>gold</td>\n",
       "      <td>48Z55</td>\n",
       "      <td>20180109</td>\n",
       "      <td>1530</td>\n",
       "      <td>1700</td>\n",
       "    </tr>\n",
       "  </tbody>\n",
       "</table>\n",
       "</div>"
      ],
      "text/plain": [
       "      id  person_id           name  membership_start_date membership_status   \n",
       "0  48Z7A      28819   Joe Germuska               20160305              gold  \\\n",
       "1  48Z55      67318  Jeremy Bowers               20160101              gold   \n",
       "\n",
       "  membership_id  check_in_date  check_in_time  check_out_time  \n",
       "0         48Z7A       20180109           1600            1730  \n",
       "1         48Z55       20180109           1530            1700  "
      ]
     },
     "execution_count": 20,
     "metadata": {},
     "output_type": "execute_result"
    }
   ],
   "source": [
    "pd.read_sql(\n",
    "        \"\"\"\n",
    "        SELECT * FROM\n",
    "        get_fit_now_member INNER JOIN get_fit_now_check_in ON get_fit_now_member.id = get_fit_now_check_in.membership_id\n",
    "        WHERE id LIKE \"48Z%\"\n",
    "        AND check_in_date = 20180109\n",
    "        ;\n",
    "        \"\"\",\n",
    "        connection)"
   ]
  },
  {
   "cell_type": "code",
   "execution_count": 21,
   "id": "c25ca28e-0ac7-44ae-9da8-41b51626a656",
   "metadata": {},
   "outputs": [
    {
     "data": {
      "text/html": [
       "<div>\n",
       "<style scoped>\n",
       "    .dataframe tbody tr th:only-of-type {\n",
       "        vertical-align: middle;\n",
       "    }\n",
       "\n",
       "    .dataframe tbody tr th {\n",
       "        vertical-align: top;\n",
       "    }\n",
       "\n",
       "    .dataframe thead th {\n",
       "        text-align: right;\n",
       "    }\n",
       "</style>\n",
       "<table border=\"1\" class=\"dataframe\">\n",
       "  <thead>\n",
       "    <tr style=\"text-align: right;\">\n",
       "      <th></th>\n",
       "      <th>id</th>\n",
       "      <th>person_id</th>\n",
       "      <th>name</th>\n",
       "      <th>membership_start_date</th>\n",
       "      <th>membership_status</th>\n",
       "      <th>membership_id</th>\n",
       "      <th>check_in_date</th>\n",
       "      <th>check_in_time</th>\n",
       "      <th>check_out_time</th>\n",
       "      <th>license_id</th>\n",
       "      <th>...</th>\n",
       "      <th>address_street_name</th>\n",
       "      <th>ssn</th>\n",
       "      <th>age</th>\n",
       "      <th>height</th>\n",
       "      <th>eye_color</th>\n",
       "      <th>hair_color</th>\n",
       "      <th>gender</th>\n",
       "      <th>plate_number</th>\n",
       "      <th>car_make</th>\n",
       "      <th>car_model</th>\n",
       "    </tr>\n",
       "  </thead>\n",
       "  <tbody>\n",
       "    <tr>\n",
       "      <th>0</th>\n",
       "      <td>423327</td>\n",
       "      <td>67318</td>\n",
       "      <td>Jeremy Bowers</td>\n",
       "      <td>20160101</td>\n",
       "      <td>gold</td>\n",
       "      <td>48Z55</td>\n",
       "      <td>20180109</td>\n",
       "      <td>1530</td>\n",
       "      <td>1700</td>\n",
       "      <td>423327</td>\n",
       "      <td>...</td>\n",
       "      <td>Washington Pl, Apt 3A</td>\n",
       "      <td>871539279</td>\n",
       "      <td>30</td>\n",
       "      <td>70</td>\n",
       "      <td>brown</td>\n",
       "      <td>brown</td>\n",
       "      <td>male</td>\n",
       "      <td>0H42W2</td>\n",
       "      <td>Chevrolet</td>\n",
       "      <td>Spark LS</td>\n",
       "    </tr>\n",
       "  </tbody>\n",
       "</table>\n",
       "<p>1 rows × 21 columns</p>\n",
       "</div>"
      ],
      "text/plain": [
       "       id  person_id           name  membership_start_date membership_status   \n",
       "0  423327      67318  Jeremy Bowers               20160101              gold  \\\n",
       "\n",
       "  membership_id  check_in_date  check_in_time  check_out_time  license_id   \n",
       "0         48Z55       20180109           1530            1700      423327  \\\n",
       "\n",
       "   ...    address_street_name        ssn age  height  eye_color hair_color   \n",
       "0  ...  Washington Pl, Apt 3A  871539279  30      70      brown      brown  \\\n",
       "\n",
       "  gender plate_number   car_make car_model  \n",
       "0   male       0H42W2  Chevrolet  Spark LS  \n",
       "\n",
       "[1 rows x 21 columns]"
      ]
     },
     "execution_count": 21,
     "metadata": {},
     "output_type": "execute_result"
    }
   ],
   "source": [
    "pd.read_sql(\n",
    "        \"\"\"\n",
    "        SELECT * FROM\n",
    "        get_fit_now_member INNER JOIN get_fit_now_check_in ON get_fit_now_member.id = get_fit_now_check_in.membership_id\n",
    "        INNER JOIN person ON get_fit_now_member.person_id = person.id\n",
    "        INNER JOIN drivers_license ON person.license_id = drivers_license.id\n",
    "        WHERE get_fit_now_member.id LIKE \"48Z%\"\n",
    "        AND check_in_date = 20180109\n",
    "        ;\n",
    "        \"\"\",\n",
    "        connection)"
   ]
  },
  {
   "cell_type": "code",
   "execution_count": 22,
   "id": "ead5ba11-1954-461f-9347-f72c8881418f",
   "metadata": {},
   "outputs": [],
   "source": [
    "with connection:\n",
    "    message_list = connection.execute(\n",
    "        \"\"\"\n",
    "        INSERT INTO solution VALUES (1, 'Jeremy Bowers');\n",
    "        \"\"\"\n",
    "    )   "
   ]
  },
  {
   "cell_type": "code",
   "execution_count": 23,
   "id": "d414ad70-17f8-40c8-86cb-50b0657683ae",
   "metadata": {},
   "outputs": [
    {
     "data": {
      "text/plain": [
       "\"Congrats, you found the murderer! But wait, there's more... If you think you're up for a challenge, try querying the interview transcript of the murderer to find the real villain behind this crime. If you feel especially confident in your SQL skills, try to complete this final step with no more than 2 queries. Use this same INSERT statement with your new suspect to check your answer.\""
      ]
     },
     "execution_count": 23,
     "metadata": {},
     "output_type": "execute_result"
    }
   ],
   "source": [
    "pd.read_sql(\n",
    "        \"\"\"\n",
    "        SELECT value FROM solution;\n",
    "        \"\"\",\n",
    "        connection)['value'][0]"
   ]
  },
  {
   "cell_type": "code",
   "execution_count": 24,
   "id": "5e09053d-b3e7-4fcf-a4f2-b34b5d02230a",
   "metadata": {},
   "outputs": [],
   "source": [
    "df = pd.read_sql(\n",
    "        \"\"\"\n",
    "        SELECT * FROM \n",
    "        person INNER JOIN interview ON person.id = interview.person_id\n",
    "        WHERE id = 67318\n",
    "        ;\n",
    "        \"\"\",\n",
    "        connection)"
   ]
  },
  {
   "cell_type": "code",
   "execution_count": 25,
   "id": "a276762a-854c-4593-b9e8-eeb2ac3ee07b",
   "metadata": {},
   "outputs": [
    {
     "data": {
      "text/plain": [
       "'I was hired by a woman with a lot of money. I don\\'t know her name but I know she\\'s around 5\\'5\" (65\") or 5\\'7\" (67\"). She has red hair and she drives a Tesla Model S. I know that she attended the SQL Symphony Concert 3 times in December 2017.\\n'"
      ]
     },
     "execution_count": 25,
     "metadata": {},
     "output_type": "execute_result"
    }
   ],
   "source": [
    "df['transcript'].loc[0]"
   ]
  },
  {
   "cell_type": "code",
   "execution_count": 26,
   "id": "21b43faf-224f-462a-a147-e0bc57a1621a",
   "metadata": {},
   "outputs": [
    {
     "data": {
      "text/html": [
       "<div>\n",
       "<style scoped>\n",
       "    .dataframe tbody tr th:only-of-type {\n",
       "        vertical-align: middle;\n",
       "    }\n",
       "\n",
       "    .dataframe tbody tr th {\n",
       "        vertical-align: top;\n",
       "    }\n",
       "\n",
       "    .dataframe thead th {\n",
       "        text-align: right;\n",
       "    }\n",
       "</style>\n",
       "<table border=\"1\" class=\"dataframe\">\n",
       "  <thead>\n",
       "    <tr style=\"text-align: right;\">\n",
       "      <th></th>\n",
       "      <th>AVG(annual_income)</th>\n",
       "      <th>MAX(annual_income)</th>\n",
       "    </tr>\n",
       "  </thead>\n",
       "  <tbody>\n",
       "    <tr>\n",
       "      <th>0</th>\n",
       "      <td>53257.798776</td>\n",
       "      <td>498500</td>\n",
       "    </tr>\n",
       "  </tbody>\n",
       "</table>\n",
       "</div>"
      ],
      "text/plain": [
       "   AVG(annual_income)  MAX(annual_income)\n",
       "0        53257.798776              498500"
      ]
     },
     "execution_count": 26,
     "metadata": {},
     "output_type": "execute_result"
    }
   ],
   "source": [
    "pd.read_sql(\n",
    "        \"\"\"\n",
    "        SELECT AVG(annual_income), MAX(annual_income) FROM \n",
    "        person\n",
    "        LEFT JOIN income ON person.ssn = income.ssn\n",
    "        ;\n",
    "        \"\"\",\n",
    "        connection)"
   ]
  },
  {
   "cell_type": "code",
   "execution_count": 27,
   "id": "babc772b-4b4b-4ba7-9f3c-6f8b1f33bdd9",
   "metadata": {},
   "outputs": [],
   "source": [
    "import matplotlib.pyplot as plt\n",
    "import seaborn as sns"
   ]
  },
  {
   "cell_type": "code",
   "execution_count": 28,
   "id": "5241092c-f552-4b98-b5fb-a5a467625476",
   "metadata": {},
   "outputs": [],
   "source": [
    "df = pd.read_sql(\n",
    "        \"\"\"\n",
    "        SELECT * FROM \n",
    "        income\n",
    "        ;\n",
    "        \"\"\",\n",
    "        connection)"
   ]
  },
  {
   "cell_type": "code",
   "execution_count": 29,
   "id": "fc705c82-4b64-4c95-b177-4c3e5b00c6ff",
   "metadata": {},
   "outputs": [
    {
     "data": {
      "text/html": [
       "<div>\n",
       "<style scoped>\n",
       "    .dataframe tbody tr th:only-of-type {\n",
       "        vertical-align: middle;\n",
       "    }\n",
       "\n",
       "    .dataframe tbody tr th {\n",
       "        vertical-align: top;\n",
       "    }\n",
       "\n",
       "    .dataframe thead th {\n",
       "        text-align: right;\n",
       "    }\n",
       "</style>\n",
       "<table border=\"1\" class=\"dataframe\">\n",
       "  <thead>\n",
       "    <tr style=\"text-align: right;\">\n",
       "      <th></th>\n",
       "      <th>annual_income</th>\n",
       "    </tr>\n",
       "  </thead>\n",
       "  <tbody>\n",
       "    <tr>\n",
       "      <th>count</th>\n",
       "      <td>7514.000000</td>\n",
       "    </tr>\n",
       "    <tr>\n",
       "      <th>mean</th>\n",
       "      <td>53257.798776</td>\n",
       "    </tr>\n",
       "    <tr>\n",
       "      <th>std</th>\n",
       "      <td>38463.768698</td>\n",
       "    </tr>\n",
       "    <tr>\n",
       "      <th>min</th>\n",
       "      <td>10000.000000</td>\n",
       "    </tr>\n",
       "    <tr>\n",
       "      <th>25%</th>\n",
       "      <td>30500.000000</td>\n",
       "    </tr>\n",
       "    <tr>\n",
       "      <th>50%</th>\n",
       "      <td>50800.000000</td>\n",
       "    </tr>\n",
       "    <tr>\n",
       "      <th>75%</th>\n",
       "      <td>70800.000000</td>\n",
       "    </tr>\n",
       "    <tr>\n",
       "      <th>max</th>\n",
       "      <td>498500.000000</td>\n",
       "    </tr>\n",
       "  </tbody>\n",
       "</table>\n",
       "</div>"
      ],
      "text/plain": [
       "       annual_income\n",
       "count    7514.000000\n",
       "mean    53257.798776\n",
       "std     38463.768698\n",
       "min     10000.000000\n",
       "25%     30500.000000\n",
       "50%     50800.000000\n",
       "75%     70800.000000\n",
       "max    498500.000000"
      ]
     },
     "execution_count": 29,
     "metadata": {},
     "output_type": "execute_result"
    }
   ],
   "source": [
    "df.describe()"
   ]
  },
  {
   "cell_type": "code",
   "execution_count": 30,
   "id": "c8eb0784-f1e9-497c-8349-d5c19cfc8ed9",
   "metadata": {},
   "outputs": [
    {
     "data": {
      "image/png": "[encoded data removed]",
      "text/plain": [
       "<Figure size 1600x600 with 2 Axes>"
      ]
     },
     "metadata": {},
     "output_type": "display_data"
    }
   ],
   "source": [
    "translations = {\n",
    "    'annual_income' : 'Годовой доход',\n",
    "}\n",
    "\n",
    "def visualize(column, xlim=None):\n",
    "    xlabel = translations.get(column.name, column.name)\n",
    "    fig, axes = plt.subplots(1, 2, figsize=(16,6))\n",
    "    sns.histplot(column, ax=axes[0], bins='fd', kde=False)\n",
    "    axes[0].set(title='Гистограмма', xlabel=xlabel, ylabel='Наблюдений, шт.', xlim=xlim);\n",
    "    sns.violinplot(column, ax=axes[1], orient='h')\n",
    "    axes[1].set(title='Плотность и размах', xlabel=xlabel, xlim=xlim);\n",
    "    \n",
    "visualize(df['annual_income'])"
   ]
  },
  {
   "cell_type": "code",
   "execution_count": 32,
   "id": "dd75f3d7-b2ef-4c10-8402-3fdb26a190d8",
   "metadata": {},
   "outputs": [
    {
     "data": {
      "text/html": [
       "<div>\n",
       "<style scoped>\n",
       "    .dataframe tbody tr th:only-of-type {\n",
       "        vertical-align: middle;\n",
       "    }\n",
       "\n",
       "    .dataframe tbody tr th {\n",
       "        vertical-align: top;\n",
       "    }\n",
       "\n",
       "    .dataframe thead th {\n",
       "        text-align: right;\n",
       "    }\n",
       "</style>\n",
       "<table border=\"1\" class=\"dataframe\">\n",
       "  <thead>\n",
       "    <tr style=\"text-align: right;\">\n",
       "      <th></th>\n",
       "      <th>car_model</th>\n",
       "    </tr>\n",
       "  </thead>\n",
       "  <tbody>\n",
       "    <tr>\n",
       "      <th>0</th>\n",
       "      <td>MDX</td>\n",
       "    </tr>\n",
       "    <tr>\n",
       "      <th>1</th>\n",
       "      <td>SRX</td>\n",
       "    </tr>\n",
       "    <tr>\n",
       "      <th>2</th>\n",
       "      <td>xB</td>\n",
       "    </tr>\n",
       "    <tr>\n",
       "      <th>3</th>\n",
       "      <td>Rogue</td>\n",
       "    </tr>\n",
       "    <tr>\n",
       "      <th>4</th>\n",
       "      <td>GS</td>\n",
       "    </tr>\n",
       "    <tr>\n",
       "      <th>...</th>\n",
       "      <td>...</td>\n",
       "    </tr>\n",
       "    <tr>\n",
       "      <th>714</th>\n",
       "      <td>Silverado Hybrid</td>\n",
       "    </tr>\n",
       "    <tr>\n",
       "      <th>715</th>\n",
       "      <td>NV2500</td>\n",
       "    </tr>\n",
       "    <tr>\n",
       "      <th>716</th>\n",
       "      <td>Crosstour</td>\n",
       "    </tr>\n",
       "    <tr>\n",
       "      <th>717</th>\n",
       "      <td>Model X</td>\n",
       "    </tr>\n",
       "    <tr>\n",
       "      <th>718</th>\n",
       "      <td>HED-5</td>\n",
       "    </tr>\n",
       "  </tbody>\n",
       "</table>\n",
       "<p>719 rows × 1 columns</p>\n",
       "</div>"
      ],
      "text/plain": [
       "            car_model\n",
       "0                 MDX\n",
       "1                 SRX\n",
       "2                  xB\n",
       "3               Rogue\n",
       "4                  GS\n",
       "..                ...\n",
       "714  Silverado Hybrid\n",
       "715            NV2500\n",
       "716         Crosstour\n",
       "717           Model X\n",
       "718             HED-5\n",
       "\n",
       "[719 rows x 1 columns]"
      ]
     },
     "execution_count": 32,
     "metadata": {},
     "output_type": "execute_result"
    }
   ],
   "source": [
    "pd.read_sql(\n",
    "        \"\"\"\n",
    "        SELECT DISTINCT car_model FROM \n",
    "        drivers_license\n",
    "        ;\n",
    "        \"\"\",\n",
    "        connection)"
   ]
  },
  {
   "cell_type": "markdown",
   "id": "231583d7-175a-4b81-bed6-634c17e0a6eb",
   "metadata": {},
   "source": [
    "### Группировка"
   ]
  },
  {
   "cell_type": "code",
   "execution_count": 44,
   "id": "84602f08-c2ee-4f2b-80d4-6cf354d444cf",
   "metadata": {},
   "outputs": [
    {
     "data": {
      "text/html": [
       "<div>\n",
       "<style scoped>\n",
       "    .dataframe tbody tr th:only-of-type {\n",
       "        vertical-align: middle;\n",
       "    }\n",
       "\n",
       "    .dataframe tbody tr th {\n",
       "        vertical-align: top;\n",
       "    }\n",
       "\n",
       "    .dataframe thead th {\n",
       "        text-align: right;\n",
       "    }\n",
       "</style>\n",
       "<table border=\"1\" class=\"dataframe\">\n",
       "  <thead>\n",
       "    <tr style=\"text-align: right;\">\n",
       "      <th></th>\n",
       "      <th>car_model</th>\n",
       "      <th>count</th>\n",
       "    </tr>\n",
       "  </thead>\n",
       "  <tbody>\n",
       "    <tr>\n",
       "      <th>0</th>\n",
       "      <td>LS</td>\n",
       "      <td>51</td>\n",
       "    </tr>\n",
       "    <tr>\n",
       "      <th>1</th>\n",
       "      <td>Sierra 1500</td>\n",
       "      <td>47</td>\n",
       "    </tr>\n",
       "    <tr>\n",
       "      <th>2</th>\n",
       "      <td>Elantra</td>\n",
       "      <td>44</td>\n",
       "    </tr>\n",
       "    <tr>\n",
       "      <th>3</th>\n",
       "      <td>Corolla</td>\n",
       "      <td>43</td>\n",
       "    </tr>\n",
       "    <tr>\n",
       "      <th>4</th>\n",
       "      <td>Yukon</td>\n",
       "      <td>42</td>\n",
       "    </tr>\n",
       "    <tr>\n",
       "      <th>...</th>\n",
       "      <td>...</td>\n",
       "      <td>...</td>\n",
       "    </tr>\n",
       "    <tr>\n",
       "      <th>714</th>\n",
       "      <td>Aventador</td>\n",
       "      <td>1</td>\n",
       "    </tr>\n",
       "    <tr>\n",
       "      <th>715</th>\n",
       "      <td>9-4X</td>\n",
       "      <td>1</td>\n",
       "    </tr>\n",
       "    <tr>\n",
       "      <th>716</th>\n",
       "      <td>57S</td>\n",
       "      <td>1</td>\n",
       "    </tr>\n",
       "    <tr>\n",
       "      <th>717</th>\n",
       "      <td>500</td>\n",
       "      <td>1</td>\n",
       "    </tr>\n",
       "    <tr>\n",
       "      <th>718</th>\n",
       "      <td>240SX</td>\n",
       "      <td>1</td>\n",
       "    </tr>\n",
       "  </tbody>\n",
       "</table>\n",
       "<p>719 rows × 2 columns</p>\n",
       "</div>"
      ],
      "text/plain": [
       "       car_model  count\n",
       "0             LS     51\n",
       "1    Sierra 1500     47\n",
       "2        Elantra     44\n",
       "3        Corolla     43\n",
       "4          Yukon     42\n",
       "..           ...    ...\n",
       "714    Aventador      1\n",
       "715         9-4X      1\n",
       "716          57S      1\n",
       "717          500      1\n",
       "718        240SX      1\n",
       "\n",
       "[719 rows x 2 columns]"
      ]
     },
     "execution_count": 44,
     "metadata": {},
     "output_type": "execute_result"
    }
   ],
   "source": [
    "pd.read_sql(\n",
    "        \"\"\"\n",
    "        SELECT car_model, count(*) AS count FROM \n",
    "        drivers_license\n",
    "        GROUP BY car_model\n",
    "        ORDER BY count DESC\n",
    "        ;\n",
    "        \"\"\",\n",
    "        connection)"
   ]
  },
  {
   "cell_type": "code",
   "execution_count": 31,
   "id": "457624a5-13a1-4a1a-b030-ac83378f96e9",
   "metadata": {},
   "outputs": [
    {
     "data": {
      "text/html": [
       "<div>\n",
       "<style scoped>\n",
       "    .dataframe tbody tr th:only-of-type {\n",
       "        vertical-align: middle;\n",
       "    }\n",
       "\n",
       "    .dataframe tbody tr th {\n",
       "        vertical-align: top;\n",
       "    }\n",
       "\n",
       "    .dataframe thead th {\n",
       "        text-align: right;\n",
       "    }\n",
       "</style>\n",
       "<table border=\"1\" class=\"dataframe\">\n",
       "  <thead>\n",
       "    <tr style=\"text-align: right;\">\n",
       "      <th></th>\n",
       "      <th>income_level</th>\n",
       "      <th>count(person.id)</th>\n",
       "    </tr>\n",
       "  </thead>\n",
       "  <tbody>\n",
       "    <tr>\n",
       "      <th>0</th>\n",
       "      <td>Average</td>\n",
       "      <td>1866</td>\n",
       "    </tr>\n",
       "    <tr>\n",
       "      <th>1</th>\n",
       "      <td>Decent</td>\n",
       "      <td>1871</td>\n",
       "    </tr>\n",
       "    <tr>\n",
       "      <th>2</th>\n",
       "      <td>Poor</td>\n",
       "      <td>1874</td>\n",
       "    </tr>\n",
       "    <tr>\n",
       "      <th>3</th>\n",
       "      <td>Rich</td>\n",
       "      <td>1875</td>\n",
       "    </tr>\n",
       "    <tr>\n",
       "      <th>4</th>\n",
       "      <td>Unknown</td>\n",
       "      <td>2525</td>\n",
       "    </tr>\n",
       "  </tbody>\n",
       "</table>\n",
       "</div>"
      ],
      "text/plain": [
       "  income_level  count(person.id)\n",
       "0      Average              1866\n",
       "1       Decent              1871\n",
       "2         Poor              1874\n",
       "3         Rich              1875\n",
       "4      Unknown              2525"
      ]
     },
     "execution_count": 31,
     "metadata": {},
     "output_type": "execute_result"
    }
   ],
   "source": [
    "pd.read_sql(\n",
    "        \"\"\"\n",
    "        SELECT\n",
    "        CASE\n",
    "            WHEN annual_income < 30500 THEN 'Poor'\n",
    "            WHEN annual_income > 30500 AND annual_income < 50800 THEN 'Average' \n",
    "            WHEN annual_income > 50800 AND annual_income < 70800 THEN 'Decent'\n",
    "            WHEN annual_income > 70800 THEN 'Rich'\n",
    "            ELSE 'Unknown'\n",
    "        END\n",
    "        as income_level, \n",
    "        count(person.id)\n",
    "        FROM \n",
    "        person LEFT JOIN drivers_license on drivers_license.id = person.license_id\n",
    "        LEFT JOIN income ON person.ssn = income.ssn\n",
    "        GROUP BY income_level\n",
    "        ;\n",
    "        \"\"\",\n",
    "        connection)"
   ]
  },
  {
   "cell_type": "code",
   "execution_count": 34,
   "id": "a30d3db5-d665-4c75-b7d5-39e2418bc0a5",
   "metadata": {},
   "outputs": [
    {
     "data": {
      "text/plain": [
       "car_model\n",
       "LS               51\n",
       "Sierra 1500      47\n",
       "Elantra          44\n",
       "Corolla          43\n",
       "Land Cruiser     42\n",
       "                 ..\n",
       "Tercel            1\n",
       "G-Series 1500     1\n",
       "57S               1\n",
       "Z4 M Roadster     1\n",
       "HED-5             1\n",
       "Name: count, Length: 719, dtype: int64"
      ]
     },
     "execution_count": 34,
     "metadata": {},
     "output_type": "execute_result"
    }
   ],
   "source": [
    "pd.read_sql(\n",
    "        \"\"\"\n",
    "        SELECT * FROM \n",
    "        drivers_license\n",
    "        ;\n",
    "        \"\"\",\n",
    "        connection)['car_model'].value_counts()"
   ]
  },
  {
   "cell_type": "markdown",
   "id": "12096737-75d0-44ad-a325-8c8ce428c53f",
   "metadata": {},
   "source": [
    "### Категоризация с помощью CASE"
   ]
  },
  {
   "cell_type": "code",
   "execution_count": 35,
   "id": "268fbe74-0659-494a-ab50-53f2178b47e0",
   "metadata": {},
   "outputs": [
    {
     "data": {
      "text/html": [
       "<div>\n",
       "<style scoped>\n",
       "    .dataframe tbody tr th:only-of-type {\n",
       "        vertical-align: middle;\n",
       "    }\n",
       "\n",
       "    .dataframe tbody tr th {\n",
       "        vertical-align: top;\n",
       "    }\n",
       "\n",
       "    .dataframe thead th {\n",
       "        text-align: right;\n",
       "    }\n",
       "</style>\n",
       "<table border=\"1\" class=\"dataframe\">\n",
       "  <thead>\n",
       "    <tr style=\"text-align: right;\">\n",
       "      <th></th>\n",
       "      <th>person_id</th>\n",
       "      <th>event_id</th>\n",
       "      <th>event_name</th>\n",
       "      <th>date</th>\n",
       "    </tr>\n",
       "  </thead>\n",
       "  <tbody>\n",
       "    <tr>\n",
       "      <th>0</th>\n",
       "      <td>28508</td>\n",
       "      <td>5880</td>\n",
       "      <td>Nudists are people who wear one-button suits.\\n</td>\n",
       "      <td>20170913</td>\n",
       "    </tr>\n",
       "    <tr>\n",
       "      <th>1</th>\n",
       "      <td>63713</td>\n",
       "      <td>3865</td>\n",
       "      <td>but that's because it's the best book on anyth...</td>\n",
       "      <td>20171009</td>\n",
       "    </tr>\n",
       "    <tr>\n",
       "      <th>2</th>\n",
       "      <td>63713</td>\n",
       "      <td>3999</td>\n",
       "      <td>If Murphy's Law can go wrong, it will.\\n</td>\n",
       "      <td>20170502</td>\n",
       "    </tr>\n",
       "    <tr>\n",
       "      <th>3</th>\n",
       "      <td>63713</td>\n",
       "      <td>6436</td>\n",
       "      <td>Old programmers never die.  They just branch t...</td>\n",
       "      <td>20170926</td>\n",
       "    </tr>\n",
       "    <tr>\n",
       "      <th>4</th>\n",
       "      <td>82998</td>\n",
       "      <td>4470</td>\n",
       "      <td>Help a swallow land at Capistrano.\\n</td>\n",
       "      <td>20171022</td>\n",
       "    </tr>\n",
       "    <tr>\n",
       "      <th>...</th>\n",
       "      <td>...</td>\n",
       "      <td>...</td>\n",
       "      <td>...</td>\n",
       "      <td>...</td>\n",
       "    </tr>\n",
       "    <tr>\n",
       "      <th>20006</th>\n",
       "      <td>99716</td>\n",
       "      <td>1143</td>\n",
       "      <td>SQL Symphony Concert</td>\n",
       "      <td>20171206</td>\n",
       "    </tr>\n",
       "    <tr>\n",
       "      <th>20007</th>\n",
       "      <td>99716</td>\n",
       "      <td>1143</td>\n",
       "      <td>SQL Symphony Concert</td>\n",
       "      <td>20171212</td>\n",
       "    </tr>\n",
       "    <tr>\n",
       "      <th>20008</th>\n",
       "      <td>99716</td>\n",
       "      <td>1143</td>\n",
       "      <td>SQL Symphony Concert</td>\n",
       "      <td>20171229</td>\n",
       "    </tr>\n",
       "    <tr>\n",
       "      <th>20009</th>\n",
       "      <td>67318</td>\n",
       "      <td>4719</td>\n",
       "      <td>The Funky Grooves Tour</td>\n",
       "      <td>20180115</td>\n",
       "    </tr>\n",
       "    <tr>\n",
       "      <th>20010</th>\n",
       "      <td>67318</td>\n",
       "      <td>1143</td>\n",
       "      <td>SQL Symphony Concert</td>\n",
       "      <td>20171206</td>\n",
       "    </tr>\n",
       "  </tbody>\n",
       "</table>\n",
       "<p>20011 rows × 4 columns</p>\n",
       "</div>"
      ],
      "text/plain": [
       "       person_id  event_id                                         event_name   \n",
       "0          28508      5880    Nudists are people who wear one-button suits.\\n  \\\n",
       "1          63713      3865  but that's because it's the best book on anyth...   \n",
       "2          63713      3999           If Murphy's Law can go wrong, it will.\\n   \n",
       "3          63713      6436  Old programmers never die.  They just branch t...   \n",
       "4          82998      4470               Help a swallow land at Capistrano.\\n   \n",
       "...          ...       ...                                                ...   \n",
       "20006      99716      1143                               SQL Symphony Concert   \n",
       "20007      99716      1143                               SQL Symphony Concert   \n",
       "20008      99716      1143                               SQL Symphony Concert   \n",
       "20009      67318      4719                             The Funky Grooves Tour   \n",
       "20010      67318      1143                               SQL Symphony Concert   \n",
       "\n",
       "           date  \n",
       "0      20170913  \n",
       "1      20171009  \n",
       "2      20170502  \n",
       "3      20170926  \n",
       "4      20171022  \n",
       "...         ...  \n",
       "20006  20171206  \n",
       "20007  20171212  \n",
       "20008  20171229  \n",
       "20009  20180115  \n",
       "20010  20171206  \n",
       "\n",
       "[20011 rows x 4 columns]"
      ]
     },
     "execution_count": 35,
     "metadata": {},
     "output_type": "execute_result"
    }
   ],
   "source": [
    "pd.read_sql(\n",
    "        \"\"\"\n",
    "        SELECT * FROM facebook_event_checkin\n",
    "        ;\n",
    "        \"\"\",\n",
    "        connection)"
   ]
  },
  {
   "cell_type": "markdown",
   "id": "2271e608-d7a2-4ee1-8a38-c0a5e3f671d1",
   "metadata": {},
   "source": [
    "### Фильтрация после группировки"
   ]
  },
  {
   "cell_type": "code",
   "execution_count": 36,
   "id": "22623cc2-4e4d-4be4-8c71-059d80cea3ab",
   "metadata": {},
   "outputs": [
    {
     "data": {
      "text/html": [
       "<div>\n",
       "<style scoped>\n",
       "    .dataframe tbody tr th:only-of-type {\n",
       "        vertical-align: middle;\n",
       "    }\n",
       "\n",
       "    .dataframe tbody tr th {\n",
       "        vertical-align: top;\n",
       "    }\n",
       "\n",
       "    .dataframe thead th {\n",
       "        text-align: right;\n",
       "    }\n",
       "</style>\n",
       "<table border=\"1\" class=\"dataframe\">\n",
       "  <thead>\n",
       "    <tr style=\"text-align: right;\">\n",
       "      <th></th>\n",
       "      <th>id</th>\n",
       "      <th>name</th>\n",
       "      <th>count</th>\n",
       "    </tr>\n",
       "  </thead>\n",
       "  <tbody>\n",
       "    <tr>\n",
       "      <th>0</th>\n",
       "      <td>24556</td>\n",
       "      <td>Bryan Pardo</td>\n",
       "      <td>3</td>\n",
       "    </tr>\n",
       "    <tr>\n",
       "      <th>1</th>\n",
       "      <td>99716</td>\n",
       "      <td>Miranda Priestly</td>\n",
       "      <td>3</td>\n",
       "    </tr>\n",
       "  </tbody>\n",
       "</table>\n",
       "</div>"
      ],
      "text/plain": [
       "      id              name  count\n",
       "0  24556       Bryan Pardo      3\n",
       "1  99716  Miranda Priestly      3"
      ]
     },
     "execution_count": 36,
     "metadata": {},
     "output_type": "execute_result"
    }
   ],
   "source": [
    "pd.read_sql(\n",
    "        \"\"\"\n",
    "        SELECT person.id, name, COUNT(*) as count FROM \n",
    "        person LEFT JOIN facebook_event_checkin ON person.id = facebook_event_checkin.person_id\n",
    "        LEFT JOIN income ON person.ssn = income.ssn\n",
    "        LEFT JOIN drivers_license ON person.license_id = drivers_license.id\n",
    "        WHERE event_name LIKE \"SQL Symphony Concert\"\n",
    "        AND date LIKE \"201712%\"\n",
    "        GROUP BY person.id, name\n",
    "        HAVING count = 3\n",
    "        ;\n",
    "        \"\"\",\n",
    "        connection)"
   ]
  },
  {
   "cell_type": "code",
   "execution_count": 37,
   "id": "a78f61ab-bbcb-425f-881f-46e850c49d7c",
   "metadata": {},
   "outputs": [
    {
     "data": {
      "text/html": [
       "<div>\n",
       "<style scoped>\n",
       "    .dataframe tbody tr th:only-of-type {\n",
       "        vertical-align: middle;\n",
       "    }\n",
       "\n",
       "    .dataframe tbody tr th {\n",
       "        vertical-align: top;\n",
       "    }\n",
       "\n",
       "    .dataframe thead th {\n",
       "        text-align: right;\n",
       "    }\n",
       "</style>\n",
       "<table border=\"1\" class=\"dataframe\">\n",
       "  <thead>\n",
       "    <tr style=\"text-align: right;\">\n",
       "      <th></th>\n",
       "      <th>id</th>\n",
       "      <th>name</th>\n",
       "      <th>license_id</th>\n",
       "      <th>address_number</th>\n",
       "      <th>address_street_name</th>\n",
       "      <th>ssn</th>\n",
       "      <th>annual_income</th>\n",
       "      <th>age</th>\n",
       "      <th>height</th>\n",
       "      <th>eye_color</th>\n",
       "      <th>hair_color</th>\n",
       "      <th>gender</th>\n",
       "      <th>plate_number</th>\n",
       "      <th>car_make</th>\n",
       "      <th>car_model</th>\n",
       "    </tr>\n",
       "  </thead>\n",
       "  <tbody>\n",
       "    <tr>\n",
       "      <th>0</th>\n",
       "      <td>202298</td>\n",
       "      <td>Miranda Priestly</td>\n",
       "      <td>202298</td>\n",
       "      <td>1883</td>\n",
       "      <td>Golden Ave</td>\n",
       "      <td>987756388</td>\n",
       "      <td>310000</td>\n",
       "      <td>68</td>\n",
       "      <td>66</td>\n",
       "      <td>green</td>\n",
       "      <td>red</td>\n",
       "      <td>female</td>\n",
       "      <td>500123</td>\n",
       "      <td>Tesla</td>\n",
       "      <td>Model S</td>\n",
       "    </tr>\n",
       "  </tbody>\n",
       "</table>\n",
       "</div>"
      ],
      "text/plain": [
       "       id              name  license_id  address_number address_street_name   \n",
       "0  202298  Miranda Priestly      202298            1883          Golden Ave  \\\n",
       "\n",
       "         ssn  annual_income  age  height eye_color hair_color  gender   \n",
       "0  987756388         310000   68      66     green        red  female  \\\n",
       "\n",
       "  plate_number car_make car_model  \n",
       "0       500123    Tesla   Model S  "
      ]
     },
     "execution_count": 37,
     "metadata": {},
     "output_type": "execute_result"
    }
   ],
   "source": [
    "pd.read_sql(\n",
    "        \"\"\"\n",
    "        SELECT * FROM \n",
    "        person\n",
    "        LEFT JOIN income ON person.ssn = income.ssn\n",
    "        LEFT JOIN drivers_license ON person.license_id = drivers_license.id\n",
    "        WHERE person.id = 99716\n",
    "        ;\n",
    "        \"\"\",\n",
    "        connection)"
   ]
  },
  {
   "cell_type": "code",
   "execution_count": 38,
   "id": "cfc2458f-86a7-4cad-a27d-383a2e0b968d",
   "metadata": {},
   "outputs": [],
   "source": [
    "with connection:\n",
    "    message_list = connection.execute(\n",
    "        \"\"\"\n",
    "        INSERT INTO solution VALUES (1, 'Miranda Priestly');\n",
    "        \"\"\"\n",
    "    )   "
   ]
  },
  {
   "cell_type": "code",
   "execution_count": 39,
   "id": "570b56c7-8b35-45df-aae0-0870e50a0e0b",
   "metadata": {},
   "outputs": [
    {
     "data": {
      "text/plain": [
       "'Congrats, you found the brains behind the murder! Everyone in SQL City hails you as the greatest SQL detective of all time. Time to break out the champagne!'"
      ]
     },
     "execution_count": 39,
     "metadata": {},
     "output_type": "execute_result"
    }
   ],
   "source": [
    "pd.read_sql(\n",
    "        \"\"\"\n",
    "        SELECT value FROM solution;\n",
    "        \"\"\",\n",
    "        connection)['value'][0]"
   ]
  },
  {
   "cell_type": "markdown",
   "id": "a2550082-a28e-4c65-844f-44230d09328f",
   "metadata": {},
   "source": [
    "# Домашнее задание"
   ]
  },
  {
   "cell_type": "markdown",
   "id": "2b574531-ed4b-4c0b-8bb2-b1b8fb4bc9a5",
   "metadata": {},
   "source": [
    "## Easy"
   ]
  },
  {
   "cell_type": "markdown",
   "id": "6cbf94f6-c8ce-49dd-a4b8-c8eb8ec885b8",
   "metadata": {},
   "source": [
    "Рассмотрите таблицу `crime_scene_report` и выведите уникальные категории преступлений (столбец `type`)."
   ]
  },
  {
   "cell_type": "code",
   "execution_count": 40,
   "id": "c206e13f-4ff7-4304-bf41-9bcac7a62488",
   "metadata": {},
   "outputs": [],
   "source": [
    "# Ваш код ниже:\n"
   ]
  },
  {
   "cell_type": "markdown",
   "id": "a51979a7-0023-49a9-8743-3990924c48a3",
   "metadata": {},
   "source": [
    "## Normal"
   ]
  },
  {
   "cell_type": "markdown",
   "id": "5ce26a0c-846b-497a-810e-25a31ea14730",
   "metadata": {},
   "source": [
    "Оцените, зависит ли средний доход человека от цвета глаз (для этого вам понадобится объединить три таблицы.)"
   ]
  },
  {
   "cell_type": "code",
   "execution_count": 41,
   "id": "d3098ddd-85ba-4642-94cf-f249f866d693",
   "metadata": {},
   "outputs": [],
   "source": [
    "# Ваш код ниже:\n"
   ]
  },
  {
   "cell_type": "markdown",
   "id": "21699808-2011-4887-8bcb-ae38086dacc7",
   "metadata": {},
   "source": [
    "## Hard"
   ]
  },
  {
   "cell_type": "markdown",
   "id": "b544e270-1587-46da-b1d3-8ce235216051",
   "metadata": {},
   "source": [
    "Прикиньте средний доход человека в зависимости от роста. С помощью SQL-запроса выведите значения роста, при которых люди в среднем получают больше, чем те, кто на 1-3 дюйма ниже их."
   ]
  },
  {
   "cell_type": "code",
   "execution_count": 42,
   "id": "b3287801-6abb-4686-8a91-fd9c123f1779",
   "metadata": {},
   "outputs": [],
   "source": [
    "# Ваш код ниже:\n"
   ]
  }
 ],
 "metadata": {
  "kernelspec": {
   "display_name": "Python 3 (ipykernel)",
   "language": "python",
   "name": "python3"
  },
  "language_info": {
   "codemirror_mode": {
    "name": "ipython",
    "version": 3
   },
   "file_extension": ".py",
   "mimetype": "text/x-python",
   "name": "python",
   "nbconvert_exporter": "python",
   "pygments_lexer": "ipython3",
   "version": "3.10.10"
  },
  "toc-autonumbering": false,
  "toc-showcode": false,
  "toc-showmarkdowntxt": false,
  "widgets": {
   "application/vnd.jupyter.widget-state+json": {
    "state": {},
    "version_major": 2,
    "version_minor": 0
   }
  }
 },
 "nbformat": 4,
 "nbformat_minor": 5
}

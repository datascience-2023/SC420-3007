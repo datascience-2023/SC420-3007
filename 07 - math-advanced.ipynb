{
 "cells": [
  {
   "cell_type": "markdown",
   "id": "59a5bef3-3dcd-4e8b-a4c0-829e760408aa",
   "metadata": {},
   "source": [
    "# Совместные распределения и оценка параметров"
   ]
  },
  {
   "cell_type": "code",
   "execution_count": 1,
   "id": "a0b37b70-ccc0-443c-a28a-cef5eafcb8a5",
   "metadata": {},
   "outputs": [],
   "source": [
    "import numpy as np\n",
    "import scipy.stats as st\n",
    "import matplotlib.pyplot as plt\n",
    "import seaborn as sns"
   ]
  },
  {
   "cell_type": "markdown",
   "id": "29020794-7500-4aff-89ce-d9066d24eecb",
   "metadata": {},
   "source": [
    "## Совместные распределения"
   ]
  },
  {
   "cell_type": "markdown",
   "id": "25da2372-c888-4460-9833-79dc2a6735ac",
   "metadata": {},
   "source": [
    "### Дискретный случай"
   ]
  },
  {
   "cell_type": "markdown",
   "id": "4dc30d4d-7b53-4737-bada-e9781437df10",
   "metadata": {},
   "source": [
    "Совместная PMF:\n",
    "\n",
    "$$\n",
    "p_{X,Y}(x, y) = \\mathbb{P}[X = x, Y=y]\n",
    "$$\n",
    "\n",
    "Совместная CDF:\n",
    "$$\n",
    "F_{X,Y}(x, y) = \\mathbb{P}[X \\leqslant x, Y \\leqslant y]\n",
    "$$"
   ]
  },
  {
   "cell_type": "markdown",
   "id": "308990df-6e13-44f4-a8ae-65f6a29af960",
   "metadata": {},
   "source": [
    "#### Частные распределения (marginal distributions)"
   ]
  },
  {
   "cell_type": "markdown",
   "id": "4c5dc46e-c192-49c0-be13-e3186301c86e",
   "metadata": {},
   "source": [
    "$$\n",
    "p_X(x) = \\sum_yp_{X,Y}(x, y)\n",
    "$$\n",
    "\n",
    "$$\n",
    "p_Y(y) = \\sum_xp_{X,Y}(x, y)\n",
    "$$"
   ]
  },
  {
   "cell_type": "markdown",
   "id": "92baa1f6-df0e-4864-9c75-00680dc4a60d",
   "metadata": {},
   "source": [
    "Пример:"
   ]
  },
  {
   "cell_type": "markdown",
   "id": "bb48682b-96fb-41ff-a327-cf2ff60e9025",
   "metadata": {},
   "source": [
    "| H\\G\t| g = 1 | g = 2 | g = 3 |\n",
    "| :-------| :-----------| :---- | :----- |\n",
    "| **h = 1** | $\\frac{1}{16}$ | $\\frac{1}{16}$ | $\\frac{1}{4}$ |\n",
    "| **h = 2** | $0$ | $\\frac{1}{8}$ | $0$ |\n",
    "| **h = 3** | $\\frac{1}{2}$ |$0$ | $0$ |\n"
   ]
  },
  {
   "cell_type": "markdown",
   "id": "203dff74-3be3-4850-92d7-821ff8b35c1e",
   "metadata": {},
   "source": [
    "#### Зависимость величин"
   ]
  },
  {
   "cell_type": "markdown",
   "id": "8c6a379d-3cc6-4e17-adb2-8b2e05297e56",
   "metadata": {},
   "source": [
    "Величины **независимы**, если:\n",
    "\n",
    "$$\n",
    "p_{X,Y}(x, y) = \\mathbb{P}[X = x]\\mathbb{P}[Y = y] = p_X(x)p_Y(y)\n",
    "$$\n",
    "\n",
    "(то же самое верно и для CDF)."
   ]
  },
  {
   "cell_type": "markdown",
   "id": "b7152238-fdb0-40c5-a079-741e6dcaf823",
   "metadata": {},
   "source": [
    "### Непрерывный случай"
   ]
  },
  {
   "cell_type": "markdown",
   "id": "5646b71a-8d51-4700-9231-df7c663adaf6",
   "metadata": {},
   "source": [
    "Смешанная CDF аналогична:\n",
    "\n",
    "$$\n",
    "F_{X,Y}(x, y) = \\mathbb{P}[X \\leqslant x, Y \\leqslant y]\n",
    "$$"
   ]
  },
  {
   "cell_type": "markdown",
   "id": "89f1b3ed-254f-4578-bc79-0c7906d996a9",
   "metadata": {},
   "source": [
    "В этом случае удобнее формально определять PDF через CDF:\n",
    "\n",
    "$$\n",
    "f_{X,Y}(x, y) = \\frac{\\partial^2}{\\partial x\\partial y}F(x,y)\n",
    "$$"
   ]
  },
  {
   "cell_type": "markdown",
   "id": "3d4bb85a-2ec3-45c2-87a9-20bc06e7818f",
   "metadata": {},
   "source": [
    "Иными словами:\n",
    "\n",
    "$$\n",
    "F_{X,Y}(a, b) = \\int_{-\\infty}^a \\int_{-\\infty}^b f_{X,Y}(x,y)dxdy\n",
    "$$"
   ]
  },
  {
   "cell_type": "markdown",
   "id": "9e781bda-8e5c-46a9-8a7c-9ff138c97eb1",
   "metadata": {},
   "source": [
    "А исходя из этого, уже можно работать с вероятностью реального события:"
   ]
  },
  {
   "cell_type": "markdown",
   "id": "0b7dbbd4-82c7-43ea-9d40-a352979c29e0",
   "metadata": {},
   "source": [
    "$$\n",
    "\\mathbb{P}[a \\leqslant X \\leqslant b, c \\leqslant Y \\leqslant d] = \\int_c^d \\int_b^a f_{X,Y}(x,y)dxdy\n",
    "$$"
   ]
  },
  {
   "cell_type": "markdown",
   "id": "32ac1aef-de74-4dce-8fab-cfc51e03335d",
   "metadata": {},
   "source": [
    "#### Частные распределения"
   ]
  },
  {
   "cell_type": "markdown",
   "id": "df7587d1-5046-4ae0-8b6f-609b2944e445",
   "metadata": {},
   "source": [
    "$$\n",
    "f_X(x) = \\int_{-\\infty}^{+\\infty}f(x,y)dy\n",
    "$$\n",
    "\n",
    "$$\n",
    "f_Y(y) = \\int_{-\\infty}^{+\\infty}f(x,y)dx\n",
    "$$"
   ]
  },
  {
   "cell_type": "markdown",
   "id": "53890916-dafd-4503-9eda-6a8f9fdfd280",
   "metadata": {},
   "source": [
    "#### Зависимость"
   ]
  },
  {
   "cell_type": "markdown",
   "id": "6a7ccb8c-48b9-41d3-8a5c-2ffb6aad7b9e",
   "metadata": {},
   "source": [
    "Подобно дискретному случаю, величины независимы, если:\n",
    "\n",
    "$$\n",
    "f_{X,Y}(x, y) = f_X(x)f_Y(y)\n",
    "$$"
   ]
  },
  {
   "cell_type": "markdown",
   "id": "d41e9c29-2134-4972-8548-d77b255efa54",
   "metadata": {},
   "source": [
    "Это очень важное наблюдение: для независимых событий достаточно умножения. Очень удобно, если наблюдения в датасете независимы, а данные в столбце, как правило, еще и распределены одинаково!"
   ]
  },
  {
   "cell_type": "markdown",
   "id": "13ba2c66-cd27-4e10-bb36-e298b4c3a5ca",
   "metadata": {},
   "source": [
    "### Условная вероятность в совместных распределениях"
   ]
  },
  {
   "cell_type": "markdown",
   "id": "29c30757-2da9-4873-b994-08ae3da270dc",
   "metadata": {},
   "source": [
    "Вспоминаем условную вероятность:\n",
    "\n",
    "$$\n",
    "\\mathbb{P}[X=x|Y=y] = \\frac{\\mathbb{P}[X=x \\cap Y=y]}{\\mathbb{P}[Y=y]}\n",
    "$$\n",
    "\n",
    "Отсюда:\n",
    "\n",
    "$$\n",
    "p_{X|Y}(x|y) = \\frac{p_{X,Y}(x,y)}{p_Y(y)}\n",
    "$$\n",
    "\n",
    "$$\n",
    "f_{X|Y}(x|y) = \\frac{f_{X,Y}(x,y)}{f_Y(y)}\n",
    "$$\n",
    "\n",
    "(также встречается обозначение $\\phi(x|y)$)"
   ]
  },
  {
   "cell_type": "markdown",
   "id": "f9ed08f8-4d26-4fa8-b0d2-cf9b57964e00",
   "metadata": {},
   "source": [
    "CDF:\n",
    "\n",
    "$$\n",
    "F_{X|Y}(k,y) = \\frac{\\int_{-\\infty}^k f_{X,Y}(x,y)dx}{f_Y(y)}\n",
    "$$"
   ]
  },
  {
   "cell_type": "markdown",
   "id": "3c945fd4-fd5f-4188-bdbf-fa18148c49a6",
   "metadata": {},
   "source": [
    "и отсюда для любого события А:\n",
    "\n",
    "$$\n",
    "\\mathbb{P}[X \\in A | Y=y] = \\int_A f_{X|Y}(x|y)dx\n",
    "$$\n",
    "\n",
    "**Формула полной вероятности** для совместного распределения, соответственно, выглядит так:\n",
    "\n",
    "$$\n",
    "\\mathbb{P}[X \\in A] = \\int_Y \\mathbb{P}[X \\in A | Y=y] f_Y(y)dy\n",
    "$$"
   ]
  },
  {
   "cell_type": "markdown",
   "id": "1a0b7ee9-fd0e-40f5-9055-1d00972bb54a",
   "metadata": {},
   "source": [
    "Точно так же работает и **теорема Байеса**:\n",
    "\n",
    "$$\n",
    "f_{Y|X}(y|x) = \\frac{f_{X|Y}(x|y)f_Y(y)}{f_X(x)}\n",
    "$$"
   ]
  },
  {
   "cell_type": "markdown",
   "id": "40d405d4-1e99-4d98-9d0a-a4534af7b86b",
   "metadata": {},
   "source": [
    "### Дополнительно: условное матожидание"
   ]
  },
  {
   "cell_type": "markdown",
   "id": "57374c34-45b7-4d4d-889b-b9f3664ce6e0",
   "metadata": {},
   "source": [
    "$$\n",
    "\\mathbb{E}[X|Y=y]= \\sum_x x p_{X|Y}(x,y)\n",
    "$$\n",
    "\n",
    "или\n",
    "\n",
    "$$\n",
    "\\mathbb{E}[X|Y=y] = \\int_{-\\infty}^{\\infty} x f_{X|Y}(x,y) dx\n",
    "$$\n"
   ]
  },
  {
   "cell_type": "markdown",
   "id": "b7edc630-1664-4aca-856e-70fba98ace2e",
   "metadata": {},
   "source": [
    "Отсюда можно вывести **формулу полного матажидания**:\n",
    "\n",
    "$$\n",
    "\\mathbb{E}[X] = \\sum_y \\mathbb{E}[X|Y=y] p_Y(y)\n",
    "$$\n",
    "\n",
    "или\n",
    "\n",
    "$$\n",
    "\\mathbb{E}[X] = \\int_{-\\infty}^{\\infty} \\mathbb{E}[X|Y=y] f_Y(y) dy\n",
    "$$\n"
   ]
  },
  {
   "cell_type": "markdown",
   "id": "10936e9b-fbfe-4921-9b0e-32a36488a05a",
   "metadata": {},
   "source": [
    "Иными словами,\n",
    "\n",
    "$$\n",
    "\\mathbb{E}[X] = \\mathbb{E}[\\mathbb{E}[X|Y]]\n",
    "$$"
   ]
  },
  {
   "cell_type": "markdown",
   "id": "da083b11-d726-42e3-bd51-1b490acfb1b1",
   "metadata": {},
   "source": [
    "## Корреляционный анализ"
   ]
  },
  {
   "cell_type": "markdown",
   "id": "e685fe8b-210b-452a-a32d-5b988deea912",
   "metadata": {},
   "source": [
    "### Понятие корреляции"
   ]
  },
  {
   "cell_type": "markdown",
   "id": "73eadbe9-2488-4b3a-9ac7-3b9ad310e7ca",
   "metadata": {},
   "source": [
    "$$\n",
    "\\mathbb{E}[XY] = \\sum_y \\sum_x xy \\cdot p_{X,Y}(x, y)\n",
    "$$"
   ]
  },
  {
   "cell_type": "markdown",
   "id": "8f89f0af-d85e-4e05-84b8-074aec49ca4b",
   "metadata": {},
   "source": [
    "Или, для непрерывных переменных:\n",
    "\n",
    "$$\n",
    "\\mathbb{E}[XY] = \\int_y \\int_x xy \\cdot f_{X,Y}(x, y)dxdy\n",
    "$$"
   ]
  },
  {
   "cell_type": "markdown",
   "id": "03627e96-27da-4bc2-b3f3-07bb16d26a83",
   "metadata": {},
   "source": [
    "Иными словами, это *взвешенное скалярное произведение*. Поэтому корреляция по сути исходит из косинусного расстояния между случайными переменными."
   ]
  },
  {
   "cell_type": "markdown",
   "id": "9550ec70-fb53-499e-bcaf-f4a3739c8db2",
   "metadata": {},
   "source": [
    "$$\n",
    "cos\\theta = \\frac{\\mathbb{E}[XY]}{\\sqrt{\\mathbb{E}[X^2]}\\sqrt{\\mathbb{E}[Y^2]}}\n",
    "$$"
   ]
  },
  {
   "cell_type": "markdown",
   "id": "f8a89e95-4a65-4754-9aae-b861cfb793c2",
   "metadata": {},
   "source": [
    "Эту величину не следует путать с *коэффициентом корреляции*, о котором речь пойдет ниже."
   ]
  },
  {
   "cell_type": "markdown",
   "id": "3f71533d-8148-4103-8896-fba1400eb22d",
   "metadata": {},
   "source": [
    "### Ковариация"
   ]
  },
  {
   "cell_type": "markdown",
   "id": "33ab5b87-3c58-4941-b89b-5b49db0bd9db",
   "metadata": {},
   "source": [
    "Вспомним определение дисперсии: $Var(X) = \\mathbb{E}[(X - \\mathbb{E}[X])^2]$ (или $\\mathbb{E}[(X - \\mathbb{E}[X])(X - \\mathbb{E}[X])]$)."
   ]
  },
  {
   "cell_type": "markdown",
   "id": "5ba40f91-80f0-43c8-9998-5bb64402ecd1",
   "metadata": {},
   "source": [
    "**Ковариация** расширяет это понятие на две переменные:\n",
    "\n",
    "$$\n",
    "Cov(X, Y) = \\mathbb{E}[(X - \\mathbb{E}[X])(Y - \\mathbb{E}[Y])]\n",
    "$$\n",
    "\n",
    "Нетрудно заметить, что $Cov(X,X) = Var(X)$."
   ]
  },
  {
   "cell_type": "markdown",
   "id": "aa58d8f4-a783-40a4-87b8-eb84bc517eda",
   "metadata": {},
   "source": [
    "Как и дисперсию, ее можно записать в более удобном виде:\n",
    "\n",
    "$$\n",
    "Cov(X,Y) =  \\mathbb{E}[XY] -  \\mathbb{E}[X] \\mathbb{E}[Y]\n",
    "$$\n",
    "\n",
    "Если X и Y независимы, ковариация нулевая, то есть $\\mathbb{E}[XY] = \\mathbb{E}[X] \\mathbb{E}[Y]$. Но ковариация способна оценить только линейную зависимость, поэтому обратное верно не всегда.\n",
    "\n",
    "Пример:\n",
    "\n",
    "| H\\G\t| g = 1 | g = 2 | g = 3 |\n",
    "| :-------| :-----------| :---- | :----- |\n",
    "| **h = 1** | $0$ | $\\frac{1}{4}$ | $0$ |\n",
    "| **h = 2** | $\\frac{1}{4}$ | $0$ | $\\frac{1}{4}$ |\n",
    "| **h = 3** | $0$ |$\\frac{1}{4}$ | $0$ |\n"
   ]
  },
  {
   "cell_type": "markdown",
   "id": "b93288a1-e37a-408e-af91-095d596df175",
   "metadata": {},
   "source": [
    "### Совместные свойства матожидания и дисперсии:"
   ]
  },
  {
   "cell_type": "markdown",
   "id": "97312337-7504-4219-be23-87e9912fa11b",
   "metadata": {},
   "source": [
    "$$\n",
    "\\mathbb{E}[X + Y]) = \\mathbb{E}[X] + \\mathbb{E}[Y]\n",
    "$$\n",
    "\n",
    "$$\n",
    "Var(X+Y) = Var(X) + 2Cov(X, Y) + Var(Y)\n",
    "$$"
   ]
  },
  {
   "cell_type": "markdown",
   "id": "0d817419-0553-4653-b57a-a4b0f5afcb11",
   "metadata": {},
   "source": [
    "### Коэффициент корреляции Пирсона"
   ]
  },
  {
   "cell_type": "markdown",
   "id": "20610ac8-749e-48f0-a302-292eb83148c5",
   "metadata": {},
   "source": [
    "$$\n",
    "\\rho(X,Y) = \\frac{Cov(X,Y)}{\\sqrt{Var(X)}\\sqrt{Var(Y)}}\n",
    "$$"
   ]
  },
  {
   "cell_type": "markdown",
   "id": "f9216883-ac6c-4d08-a868-37d639c9cd45",
   "metadata": {},
   "source": [
    "Это тоже версия косинусного расстояния между переменными, но предварительно они центрируются (вычитается среднее значение)."
   ]
  },
  {
   "cell_type": "markdown",
   "id": "69c836e3-97ef-4e63-a4c6-78687121f764",
   "metadata": {},
   "source": [
    "### Матрица ковариации"
   ]
  },
  {
   "cell_type": "markdown",
   "id": "dae57085-3e90-4721-ac31-6e89b7de4c13",
   "metadata": {},
   "source": [
    "Датасет можно рассмотреть как *вектор* из N случайных величин (каждый столбец соответсвует одной). **Матрица ковариации** будет выглядеть так:"
   ]
  },
  {
   "cell_type": "markdown",
   "id": "86cd7824-e6db-40d1-b1e0-ec3f2ea5786f",
   "metadata": {},
   "source": [
    "$$\n",
    "\\Sigma=\n",
    "  \\begin{bmatrix}\n",
    "    Var(X_1) & Cov(X_1, X_2) & \\cdots & Cov(X_1, X_N) \\\\\n",
    "    Cov(X_2, X_1) & Var(X_2) & \\cdots & Cov(X_2, X_N) \\\\\n",
    "    \\vdots & \\vdots & \\ddots & \\vdots \\\\\n",
    "    Cov(X_N, X_1) & \\cdots & \\cdots & Var(X_N)\n",
    "  \\end{bmatrix}\n",
    "$$"
   ]
  },
  {
   "cell_type": "markdown",
   "id": "743aa1d2-4083-4701-82f9-73fc61a0447e",
   "metadata": {},
   "source": [
    "Или, в матричном виде,\n",
    "\n",
    "$$\n",
    "\\mathbb{E}[(X - \\mathbb{E}[X])^T(X - \\mathbb{E}[X])]\n",
    "$$\n",
    "\n",
    "где X - датасет, а $\\mathbb{E}[X]$ - вектор матожиданий по каждому столбцу. Если признаками будут строки, а не столбцы, порядок множителей обратный."
   ]
  },
  {
   "cell_type": "code",
   "execution_count": 2,
   "id": "935ee55c-ee49-40df-921d-82d2853acf4f",
   "metadata": {},
   "outputs": [],
   "source": [
    "A = np.array([[1, 2, 30],\n",
    "              [1, 2.5, 22],\n",
    "              [2, 3, 30]])"
   ]
  },
  {
   "cell_type": "code",
   "execution_count": 3,
   "id": "f335a992-a6cc-4813-a5fc-6c4331ab83e1",
   "metadata": {},
   "outputs": [
    {
     "data": {
      "text/plain": [
       "array([[ 0.22222222,  0.16666667,  0.88888889],\n",
       "       [ 0.16666667,  0.16666667,  0.        ],\n",
       "       [ 0.88888889,  0.        , 14.22222222]])"
      ]
     },
     "execution_count": 3,
     "metadata": {},
     "output_type": "execute_result"
    }
   ],
   "source": [
    "mu = A.mean(axis=0)\n",
    "(A-mu).T@(A-mu) / A.shape[0]"
   ]
  },
  {
   "cell_type": "code",
   "execution_count": 4,
   "id": "ce826e4b-5cf8-4dbe-8759-7996bbf51526",
   "metadata": {},
   "outputs": [
    {
     "data": {
      "text/plain": [
       "array([[ 0.22222222,  0.16666667,  0.88888889],\n",
       "       [ 0.16666667,  0.16666667,  0.        ],\n",
       "       [ 0.88888889,  0.        , 14.22222222]])"
      ]
     },
     "execution_count": 4,
     "metadata": {},
     "output_type": "execute_result"
    }
   ],
   "source": [
    "np.cov(A, rowvar=False, ddof=0)"
   ]
  },
  {
   "cell_type": "code",
   "execution_count": 5,
   "id": "3ccce516-0b44-41da-b240-cfad291f26be",
   "metadata": {},
   "outputs": [
    {
     "data": {
      "image/png": "[encoded data removed]",
      "text/plain": [
       "<Figure size 640x480 with 2 Axes>"
      ]
     },
     "metadata": {},
     "output_type": "display_data"
    }
   ],
   "source": [
    "sns.heatmap(np.cov(A, rowvar=False, ddof=0), annot=True, cmap='icefire');"
   ]
  },
  {
   "cell_type": "markdown",
   "id": "4743c95a-e10f-470f-9dfa-ad2f6d563422",
   "metadata": {},
   "source": [
    "Теперь если добавить еще и масштабирование, получится **матрица корреляции**, по которой можно оценивать линейную зависимость переменных:"
   ]
  },
  {
   "cell_type": "code",
   "execution_count": 6,
   "id": "587b0c75-c8ae-4753-a16a-511e5c37581b",
   "metadata": {},
   "outputs": [
    {
     "data": {
      "text/plain": [
       "array([[1.       , 0.8660254, 0.5      ],\n",
       "       [0.8660254, 1.       , 0.       ],\n",
       "       [0.5      , 0.       , 1.       ]])"
      ]
     },
     "execution_count": 6,
     "metadata": {},
     "output_type": "execute_result"
    }
   ],
   "source": [
    "np.corrcoef(A, rowvar=False)"
   ]
  },
  {
   "cell_type": "code",
   "execution_count": 7,
   "id": "f0d19290-7872-489d-9f47-93a95176c227",
   "metadata": {},
   "outputs": [
    {
     "data": {
      "image/png": "[encoded data removed]",
      "text/plain": [
       "<Figure size 640x480 with 2 Axes>"
      ]
     },
     "metadata": {},
     "output_type": "display_data"
    }
   ],
   "source": [
    "sns.heatmap(np.corrcoef(A, rowvar=False), annot=True, cmap='icefire');"
   ]
  },
  {
   "cell_type": "markdown",
   "id": "8096129c-db07-4e30-969b-48a7a4c5d4b9",
   "metadata": {},
   "source": [
    "### Дополнительно: матрица автокорреляции"
   ]
  },
  {
   "cell_type": "markdown",
   "id": "f5a945e6-b7da-461c-90f0-cfa9f9db5ce5",
   "metadata": {},
   "source": [
    "Если проделать то же без центрирования по среднему, выйдет:"
   ]
  },
  {
   "cell_type": "markdown",
   "id": "e3879fdc-2547-47c0-b0f9-fac146d95942",
   "metadata": {},
   "source": [
    "$$\n",
    "R = \\mathbb{E}[X_TX] = \n",
    "  \\begin{bmatrix}\n",
    "    \\mathbb{E}[X_1^2] & \\mathbb{E}[X_1X_2] & \\cdots & \\mathbb{E}[X_1X_N] \\\\\n",
    "    \\mathbb{E}[X_2X_1] & \\mathbb{E}[X_2^2] & \\cdots & \\mathbb{E}[X_2X_N] \\\\\n",
    "    \\vdots & \\vdots & \\ddots & \\vdots \\\\\n",
    "    \\mathbb{E}[X_NX_1] & \\cdots & \\cdots & \\mathbb{E}[X_N^2]\n",
    "  \\end{bmatrix}\n",
    "$$"
   ]
  },
  {
   "cell_type": "markdown",
   "id": "2344c949-2812-4c1c-8c33-ba51ad17675a",
   "metadata": {},
   "source": [
    "Если присмотреться, все это лишь запись дисперсии/ковариации в матричном виде, и аналогично $Var(X) = \\mathbb{E}[X^2] - \\mathbb{E}[X]^2$:\n",
    "\n",
    "$$\n",
    "\\Sigma = R - \\mathbb{E}[X]^T\\mathbb{E}[X]\n",
    "$$\n",
    "\n"
   ]
  },
  {
   "cell_type": "code",
   "execution_count": 8,
   "id": "5c5c699d-f20b-425d-ac53-2d80060403a0",
   "metadata": {},
   "outputs": [
    {
     "data": {
      "text/plain": [
       "array([[  2.        ,   3.5       ,  37.33333333],\n",
       "       [  3.5       ,   6.41666667,  68.33333333],\n",
       "       [ 37.33333333,  68.33333333, 761.33333333]])"
      ]
     },
     "execution_count": 8,
     "metadata": {},
     "output_type": "execute_result"
    }
   ],
   "source": [
    "A.T@A / A.shape[0]"
   ]
  },
  {
   "cell_type": "markdown",
   "id": "9fea59e1-4bd6-4d04-ac32-2b2484a5a27e",
   "metadata": {},
   "source": [
    "---"
   ]
  },
  {
   "cell_type": "markdown",
   "id": "e087890b-e01f-4356-a750-87a4b547aa2e",
   "metadata": {},
   "source": [
    "## Случайные выборки и описательные статистики"
   ]
  },
  {
   "cell_type": "markdown",
   "id": "ad22fcd1-2c6d-4745-a722-cc6b747e95c8",
   "metadata": {},
   "source": [
    "**Генеральная совокупность (population)** - полный набор объектов, которые разделяют хотя бы одно общее свойство, интересное нам для анализа. \n",
    "\n",
    "**Выборка (sample)** - подмножество генеральной совокупности.\n",
    "\n",
    "**Случайная выборка**: формально - набор независимых случайных переменных, распределенных так же, как генеральная совокупность.\n",
    "\n",
    "Выборки из популярных распределений можно сгенерировать с помощью `np.random`:"
   ]
  },
  {
   "cell_type": "code",
   "execution_count": 9,
   "id": "e2287010-3aec-420d-ba79-5d8925715d8e",
   "metadata": {},
   "outputs": [
    {
     "data": {
      "text/plain": [
       "array([2, 0, 2, 1, 3, 1, 1, 1, 1, 0, 1, 1, 4, 2, 1, 2, 2, 3, 0, 1])"
      ]
     },
     "execution_count": 9,
     "metadata": {},
     "output_type": "execute_result"
    }
   ],
   "source": [
    "x = np.random.poisson(1, 1001)\n",
    "x[:20]"
   ]
  },
  {
   "cell_type": "markdown",
   "id": "b6a27a3d-36df-48e2-b22c-d0c04bc67a7e",
   "metadata": {},
   "source": [
    "### Оценка параметров"
   ]
  },
  {
   "cell_type": "markdown",
   "id": "542317f9-bec6-4947-8c8b-2a4efca5655a",
   "metadata": {},
   "source": [
    "На практике нам нередко приходится с задачей оценить реальное распределение по какой-то выборке. Для этого нужно:\n",
    "\n",
    "- понять вид распределения;\n",
    "- сделать правдоподобную оценку ключевых параметров (например, $\\lambda$ дл Пуассона);\n",
    "- знать минимальный размер выборки, достаточный для надежной оценки.\n",
    "\n",
    "Таким образом, лучшие *выборочные статистики* должны быть хорошими оценками параметров генеральной совокупности."
   ]
  },
  {
   "cell_type": "markdown",
   "id": "08dc0b23-83ad-4f32-a6ee-e05d85de84d2",
   "metadata": {},
   "source": [
    "#### Смещение оценки"
   ]
  },
  {
   "cell_type": "markdown",
   "id": "3c57657f-cb72-4164-a1ab-5c902376ebe3",
   "metadata": {},
   "source": [
    "Обозначим параметр как $\\theta$, а нашу оценку соответственно как $\\bar\\theta$. **Смещением** будет называться среднее отклонение оценки от реального параметра."
   ]
  },
  {
   "cell_type": "markdown",
   "id": "d84d03ca-bca5-469d-957f-e6026b1df9ad",
   "metadata": {},
   "source": [
    "$$\n",
    "b(\\bar\\theta) = \\mathbb{E}[\\bar\\theta] - \\theta\n",
    "$$\n",
    "\n",
    "Несмещенные оценки не всегда очевидны и иногда требуют сложного доказательства несмещенности!\n",
    "\n",
    "Оценки, пригодные к реальному использованию:\n",
    "\n",
    "- могут быть несмещенными (годятся и для маленьких выборок);\n",
    "- могут иметь смещение, стремящееся к 0 (годятся для больших выборок)."
   ]
  },
  {
   "cell_type": "markdown",
   "id": "aa5bca29-49ca-4480-a846-0c0adb3c8c2e",
   "metadata": {},
   "source": [
    "#### Эффективность и состоятельность оценки"
   ]
  },
  {
   "cell_type": "markdown",
   "id": "11326179-fa33-4065-90f5-c05d4448fe9c",
   "metadata": {},
   "source": [
    "Из двух несмещенных оценок более эффективна та, дисперсия которой меньше.\n",
    "\n",
    "Это правило можно обобщить для смещенных оценок через **среднеквадратичную ошибку**: $MSE(\\theta, \\bar\\theta) = \\mathbb{E}[(\\theta - \\bar\\theta)^2]$. Оценка с меньшей ошибкой более эффективна.\n",
    "\n",
    "Кстасти, раскрыв скобки, мы получим:\n",
    "\n",
    "$$\n",
    "MSE(\\theta, \\bar\\theta) = Var(\\bar\\theta) + 2b(\\bar\\theta)^2\n",
    "$$\n",
    "\n",
    "Для **состоятельной** оценки MSE с ростом выборки стремится к нулю."
   ]
  },
  {
   "cell_type": "markdown",
   "id": "b6286a18-9380-4166-b23f-f9dbe634a900",
   "metadata": {},
   "source": [
    "### Выборочное среднее"
   ]
  },
  {
   "cell_type": "code",
   "execution_count": 10,
   "id": "28cc3f60-4c84-4878-914e-dfb0fa51353a",
   "metadata": {},
   "outputs": [
    {
     "data": {
      "text/plain": [
       "array([2, 0, 1, 1, 0, 0, 1, 0, 0, 1, 0, 3, 2, 0, 1, 1, 0, 1, 0, 3])"
      ]
     },
     "execution_count": 10,
     "metadata": {},
     "output_type": "execute_result"
    }
   ],
   "source": [
    "x = np.random.poisson(1, 1001)\n",
    "x[:20]"
   ]
  },
  {
   "cell_type": "markdown",
   "id": "d163ec2b-e5f3-48f1-8ee2-5c51a49e8530",
   "metadata": {},
   "source": [
    "Среднее значение для генеральной совокупности соответствует среднему арифметическому всех значений. Это справедливо и для выборки."
   ]
  },
  {
   "cell_type": "markdown",
   "id": "28cc34b6-cca9-49a7-9479-3fdabe19f829",
   "metadata": {},
   "source": [
    "$$\n",
    "\\bar x = \\frac{1}{n}\\sum_{i=1}^n x_i\n",
    "$$"
   ]
  },
  {
   "cell_type": "markdown",
   "id": "80b5aaa2-50e7-4785-8ac2-0acfe8b78278",
   "metadata": {},
   "source": [
    "(Как правило, размер генеральной совокупности обозначают $N$, а выборки - $n$.)\n",
    "\n",
    "**Это несмещенная оценка матожидания генеральной совокупности.**"
   ]
  },
  {
   "cell_type": "code",
   "execution_count": 11,
   "id": "4857b652-75d1-4751-8b9a-122d4f68252c",
   "metadata": {},
   "outputs": [
    {
     "data": {
      "text/plain": [
       "1.0449550449550449"
      ]
     },
     "execution_count": 11,
     "metadata": {},
     "output_type": "execute_result"
    }
   ],
   "source": [
    "np.mean(x)"
   ]
  },
  {
   "cell_type": "markdown",
   "id": "a4109656-7c00-4ccc-ba4e-417030a691de",
   "metadata": {},
   "source": [
    "### Дисперсия и ковариация"
   ]
  },
  {
   "cell_type": "markdown",
   "id": "e6a91bf6-7633-430f-ad26-e2f5533fd31d",
   "metadata": {},
   "source": [
    "**Выборочная дисперсия отличается от обычной**.\n",
    "\n",
    "$$\n",
    "s^2 = \\frac{1}{n-1} \\sum_{i=1}^N (x_i - \\bar x)^2\n",
    "$$"
   ]
  },
  {
   "cell_type": "markdown",
   "id": "072883ec-da66-4135-9d27-c149048cb9e1",
   "metadata": {},
   "source": [
    "**Это несмещенная оценка дисперсии генеральной совокупности.** Если бы мы использовали $n$, а не $n-1$, наша оценка была бы смещенной."
   ]
  },
  {
   "cell_type": "code",
   "execution_count": 12,
   "id": "5f838286-0a74-4e9e-a380-40eed0020453",
   "metadata": {},
   "outputs": [
    {
     "data": {
      "text/plain": [
       "1.0649770229770228"
      ]
     },
     "execution_count": 12,
     "metadata": {},
     "output_type": "execute_result"
    }
   ],
   "source": [
    "# Коррекция для выборочной дисперсии с помощьб параметра ddof:\n",
    "np.var(x, ddof=1)"
   ]
  },
  {
   "cell_type": "markdown",
   "id": "4b179284-6a29-4f3d-8520-a3f9a0a9d304",
   "metadata": {},
   "source": [
    "**Стандартное отклонение** традиционно также считается для выборки по выборочной дисперсии, хотя *такая оценка уже смещенная*."
   ]
  },
  {
   "cell_type": "markdown",
   "id": "b00522c3-eb56-4461-acfd-0a44e8a5f5e4",
   "metadata": {},
   "source": [
    "**Выборочная ковариация** двух выборок считается с той же поправкой:\n",
    "\n",
    "$$\n",
    "S_{X,Y} = \\frac{1}{n-1} \\sum_{i=1}^N (x_i - \\bar x)(y_i - \\bar y)\n",
    "$$"
   ]
  },
  {
   "cell_type": "markdown",
   "id": "c6c44b65-14aa-4c48-b465-976d805f38a0",
   "metadata": {},
   "source": [
    "### Медиана"
   ]
  },
  {
   "cell_type": "markdown",
   "id": "dd0db866-64f4-4146-936f-1d531ae57b22",
   "metadata": {},
   "source": [
    "С алгоритмом вычисления медианы мы уже знакомы."
   ]
  },
  {
   "cell_type": "code",
   "execution_count": 13,
   "id": "585e5f4d-6f39-4aaf-8ef8-d494d1bc9002",
   "metadata": {},
   "outputs": [
    {
     "data": {
      "text/plain": [
       "1"
      ]
     },
     "execution_count": 13,
     "metadata": {},
     "output_type": "execute_result"
    }
   ],
   "source": [
    "sorted(x)[len(x) // 2]"
   ]
  },
  {
   "cell_type": "code",
   "execution_count": 14,
   "id": "34c17ff0-8047-4f82-b25d-13aa9a5ec130",
   "metadata": {},
   "outputs": [
    {
     "data": {
      "text/plain": [
       "1.0"
      ]
     },
     "execution_count": 14,
     "metadata": {},
     "output_type": "execute_result"
    }
   ],
   "source": [
    "np.median(x)"
   ]
  },
  {
   "cell_type": "markdown",
   "id": "4ee944ad-8044-432a-8667-95a030e1cad2",
   "metadata": {},
   "source": [
    "### Мода"
   ]
  },
  {
   "cell_type": "markdown",
   "id": "398c47f0-01bc-49a1-9ca8-e03eabe0270d",
   "metadata": {},
   "source": [
    "Наиболее частое значение. Эта статистика подходит и для категориальных переменных. Мод может быть несколько."
   ]
  },
  {
   "cell_type": "code",
   "execution_count": 15,
   "id": "ea0b4864-5441-40b2-839c-84b549005423",
   "metadata": {},
   "outputs": [
    {
     "data": {
      "text/plain": [
       "ModeResult(mode=0, count=367)"
      ]
     },
     "execution_count": 15,
     "metadata": {},
     "output_type": "execute_result"
    }
   ],
   "source": [
    "st.mode(x, keepdims=False)"
   ]
  },
  {
   "cell_type": "markdown",
   "id": "83a0c0b2-202a-4d99-b274-c1014acd636c",
   "metadata": {},
   "source": [
    "### Размах"
   ]
  },
  {
   "cell_type": "markdown",
   "id": "86f9d4a0-a18e-4f78-8e7f-5524d1f8302c",
   "metadata": {},
   "source": [
    "Это просто разница между максимумом и минимумом:"
   ]
  },
  {
   "cell_type": "code",
   "execution_count": 16,
   "id": "67b9058c-f038-4822-9a00-cc465d2a80aa",
   "metadata": {},
   "outputs": [
    {
     "data": {
      "text/plain": [
       "5"
      ]
     },
     "execution_count": 16,
     "metadata": {},
     "output_type": "execute_result"
    }
   ],
   "source": [
    "np.ptp(x)"
   ]
  },
  {
   "cell_type": "markdown",
   "id": "bf92cfa6-1285-4790-8930-f634de48867f",
   "metadata": {},
   "source": [
    "### Межквартильный размах"
   ]
  },
  {
   "cell_type": "markdown",
   "id": "ee409da0-a814-4a22-a637-f1f3c99566a2",
   "metadata": {},
   "source": [
    "Мы уже знакомы с ним по диаграмме размаха."
   ]
  },
  {
   "cell_type": "code",
   "execution_count": 17,
   "id": "1ece8a28-e41b-4084-86e6-88837da6c12f",
   "metadata": {},
   "outputs": [
    {
     "data": {
      "text/plain": [
       "2.0"
      ]
     },
     "execution_count": 17,
     "metadata": {},
     "output_type": "execute_result"
    }
   ],
   "source": [
    "st.iqr(x)"
   ]
  },
  {
   "cell_type": "markdown",
   "id": "eab59128-284b-47e0-9c26-3a37b2fbee10",
   "metadata": {},
   "source": [
    "### Функция правдоподобия (likelyhood)"
   ]
  },
  {
   "cell_type": "markdown",
   "id": "9ea4ee74-fb74-40b7-86ab-10b67179ef02",
   "metadata": {},
   "source": [
    "Чуть ранее мы рассматривали датасет как вектор случайных величин-столбцов. Теперь, когда мы ознакомились с понятием выборки, мы можем описать его более правильно:\n",
    "\n",
    "Столбец представляет собой *выборку*: каждое наблюдение - возможное значение одной из $n$ одинаково распределенных величин (формально у каждого наблюдения есть своя случайная переменная, его порождающая, но они распределены одинаково).\n",
    "\n",
    "Лучше всего, если такие наблюдения *независимы*, ведь тогда их совместную вероятность можно вычислять без интегрирования."
   ]
  },
  {
   "cell_type": "markdown",
   "id": "e05c84f8-54b6-4382-b475-1be73908dc48",
   "metadata": {},
   "source": [
    "Когда датасет у нас на руках, наблюдения известны, а распределение - нет. Иными словами, для хорошей оценки параметров распределения мы хотели бы максимизировать некую функцию\n",
    "\n",
    "$$\n",
    "\\mathcal{L}(\\theta) = f_X(x;\\theta)\n",
    "$$\n",
    "\n",
    "(здесь $\\theta$ может обозначать не один параметр, а целый набор).\n",
    "\n",
    "Упрощенно говоря, максимизировать (плотность) вероятности того, что каждая случайная величина, породившая наблюдение, примет значение из выборки при таком наборе параметров (запись в векторной форме: $X$ - набор случайных переменных, а $x$ - соответствующие наблюдения.\n",
    "\n",
    "Вспоминаем свойство PDF независимых одинаково распределенных величин, и видим, что в этом случае:\n",
    "\n",
    "$$\n",
    "\\mathcal{L}(\\theta) = f_X(x;\\theta) = \\prod_{i=1}^n f_{X_n}(x_i)\n",
    "$$\n"
   ]
  },
  {
   "cell_type": "markdown",
   "id": "6bab43cf-1430-42c5-bfeb-e0901a60b961",
   "metadata": {},
   "source": [
    "А еще лучше не перемножать, а складывать! Для этого воспользуемcя логарифмом:\n",
    "\n",
    "$$\n",
    "log \\mathcal{L}(\\theta) = log f_X(x;\\theta) = \\sum_{i=1}^n log f_{X_n}(x_i)\n",
    "$$"
   ]
  },
  {
   "cell_type": "code",
   "execution_count": 18,
   "id": "bf33730a-5ee9-4314-a72d-40a0aba7a6b0",
   "metadata": {},
   "outputs": [],
   "source": [
    "x = np.random.normal(2, 4, 50)"
   ]
  },
  {
   "cell_type": "code",
   "execution_count": 19,
   "id": "38d5dd4e-c1f9-4c92-a0dd-c83345be2e1e",
   "metadata": {},
   "outputs": [],
   "source": [
    "theta = (0, 1)"
   ]
  },
  {
   "cell_type": "code",
   "execution_count": 20,
   "id": "a1d19006-4546-4c42-b052-b40155743e14",
   "metadata": {},
   "outputs": [
    {
     "data": {
      "text/plain": [
       "1.6780085445940396e-249"
      ]
     },
     "execution_count": 20,
     "metadata": {},
     "output_type": "execute_result"
    }
   ],
   "source": [
    "np.product([st.norm(*theta).pdf(k) for k in x])"
   ]
  },
  {
   "cell_type": "code",
   "execution_count": 21,
   "id": "fc4c53ef-afd3-4f58-a9e1-abb74baa312e",
   "metadata": {},
   "outputs": [
    {
     "data": {
      "text/plain": [
       "-572.8260804553553"
      ]
     },
     "execution_count": 21,
     "metadata": {},
     "output_type": "execute_result"
    }
   ],
   "source": [
    "np.sum([np.log(st.norm(*theta).pdf(k)) for k in x])"
   ]
  },
  {
   "cell_type": "code",
   "execution_count": 22,
   "id": "877ffdc8-15b0-4b3b-89ad-40ee74776414",
   "metadata": {},
   "outputs": [],
   "source": [
    "theta = (2, 5)"
   ]
  },
  {
   "cell_type": "code",
   "execution_count": 23,
   "id": "a679169e-c28c-43f9-8f3d-dcb4dcd8c178",
   "metadata": {},
   "outputs": [
    {
     "data": {
      "text/plain": [
       "3.168806035443123e-62"
      ]
     },
     "execution_count": 23,
     "metadata": {},
     "output_type": "execute_result"
    }
   ],
   "source": [
    "np.product([st.norm(*theta).pdf(k) for k in x])"
   ]
  },
  {
   "cell_type": "code",
   "execution_count": 24,
   "id": "d04cac4f-be6b-4818-800f-5a4e40ab9174",
   "metadata": {},
   "outputs": [
    {
     "data": {
      "text/plain": [
       "-141.6069208936608"
      ]
     },
     "execution_count": 24,
     "metadata": {},
     "output_type": "execute_result"
    }
   ],
   "source": [
    "np.sum([np.log(st.norm(*theta).pdf(k)) for k in x])"
   ]
  },
  {
   "cell_type": "markdown",
   "id": "6bfd8d1a-6f21-4243-91b6-08634cae20e8",
   "metadata": {},
   "source": [
    "Точно так же можно сравнить правдоподобие разных распределений."
   ]
  },
  {
   "cell_type": "markdown",
   "id": "9bb00b29-2b3a-4afb-b8bf-f820ff437b4a",
   "metadata": {},
   "source": [
    "#### Максимизация правдоподобия"
   ]
  },
  {
   "cell_type": "code",
   "execution_count": 25,
   "id": "5a60cf65-fb90-4dab-9398-caeb4c04ba43",
   "metadata": {},
   "outputs": [],
   "source": [
    "from scipy.optimize import minimize"
   ]
  },
  {
   "cell_type": "code",
   "execution_count": 26,
   "id": "70e03667-ce83-40d1-bde2-2a4f74c7d2e0",
   "metadata": {},
   "outputs": [],
   "source": [
    "def nll(theta, x):\n",
    "    norm = st.norm(*theta)\n",
    "    try:\n",
    "        result = -np.sum([np.log(norm.pdf(k)) for k in x])\n",
    "    except:\n",
    "        result = np.inf\n",
    "    return result"
   ]
  },
  {
   "cell_type": "code",
   "execution_count": 27,
   "id": "4fbc1a59-dbb4-4562-97a7-8a77fa8c9000",
   "metadata": {},
   "outputs": [
    {
     "data": {
      "text/plain": [
       "  message: CONVERGENCE: NORM_OF_PROJECTED_GRADIENT_<=_PGTOL\n",
       "  success: True\n",
       "   status: 0\n",
       "      fun: 138.59067329069796\n",
       "        x: [ 2.472e+00  3.869e+00]\n",
       "      nit: 13\n",
       "      jac: [ 0.000e+00 -5.684e-06]\n",
       "     nfev: 42\n",
       "     njev: 14\n",
       " hess_inv: <2x2 LbfgsInvHessProduct with dtype=float64>"
      ]
     },
     "execution_count": 27,
     "metadata": {},
     "output_type": "execute_result"
    }
   ],
   "source": [
    "res = minimize(nll, (0,1), x, bounds=((None, None), (0.1, None)))\n",
    "res"
   ]
  },
  {
   "cell_type": "code",
   "execution_count": 28,
   "id": "e5c6dfd6-ed6e-42d4-86ec-77205f125dd5",
   "metadata": {},
   "outputs": [
    {
     "data": {
      "image/png": "[encoded data removed]",
      "text/plain": [
       "<Figure size 640x480 with 1 Axes>"
      ]
     },
     "metadata": {},
     "output_type": "display_data"
    }
   ],
   "source": [
    "plt.title('Сравнение распределений')\n",
    "plt.xlabel('Значения X')\n",
    "plt.ylabel('Плотность вероятности')\n",
    "\n",
    "n1 = st.norm(2, 4)\n",
    "pdf1 = np.array([n1.pdf(k) for k in x])\n",
    "plt.scatter(x, pdf1);\n",
    "n2 = st.norm(*res.x)\n",
    "pdf2 = np.array([n2.pdf(k) for k in x])\n",
    "plt.scatter(x, pdf2);"
   ]
  },
  {
   "cell_type": "code",
   "execution_count": 29,
   "id": "9a1390f1-0d28-4f23-b57d-b02972458032",
   "metadata": {},
   "outputs": [
    {
     "data": {
      "text/plain": [
       "2.4717668850206804"
      ]
     },
     "execution_count": 29,
     "metadata": {},
     "output_type": "execute_result"
    }
   ],
   "source": [
    "x.mean()"
   ]
  },
  {
   "cell_type": "code",
   "execution_count": 30,
   "id": "b3aa2528-1a77-453b-8485-09bbd9b9ba13",
   "metadata": {},
   "outputs": [
    {
     "data": {
      "text/plain": [
       "3.8685313256997196"
      ]
     },
     "execution_count": 30,
     "metadata": {},
     "output_type": "execute_result"
    }
   ],
   "source": [
    "x.std()"
   ]
  },
  {
   "cell_type": "markdown",
   "id": "2a18293f-b580-4290-a6a7-744afac4ad0b",
   "metadata": {},
   "source": [
    "**Оценка, полученная методом максимального правдоподобия (MLE) всегда состоятельна.**"
   ]
  },
  {
   "cell_type": "markdown",
   "id": "6c1577c4-2ba2-4354-aecf-3a1637f5312d",
   "metadata": {},
   "source": [
    "### Слабый закон больших чисел"
   ]
  },
  {
   "cell_type": "markdown",
   "id": "c4f609dc-eabe-4e6f-ae8a-de7db8035907",
   "metadata": {},
   "source": [
    "$$\n",
    "\\lim_{n->\\infty} \\mathbb{P}\\left[|\\bar X - \\mathbb{E}[X]| > \\epsilon\\right] = 0\n",
    "$$"
   ]
  },
  {
   "cell_type": "markdown",
   "id": "a84bb2b4-3f4f-446b-8ffe-afebca744b06",
   "metadata": {},
   "source": [
    "Иначе говоря, с ростом размера выборки вероятность того, что выборочное среднее отклонится от истинного больше, чем на любую наперед заданную положительную величину, стремится к нулю (но сохраняется), то есть дисперсия выборочного среднего падает. **Для этого второй момент случайной величины должен быть конечным.**"
   ]
  },
  {
   "cell_type": "markdown",
   "id": "3a89a908-24ea-40ac-ae0b-80cd54df2a6f",
   "metadata": {},
   "source": [
    "### Усиленный закон больших чисел"
   ]
  },
  {
   "cell_type": "markdown",
   "id": "0776e520-e099-4ee4-81e4-ff5b75294287",
   "metadata": {},
   "source": [
    "$$\n",
    "\\mathbb{P}\\left[\\lim_{n->\\infty}\\bar X = \\mathbb{E}[X]\\right] = 1\n",
    "$$"
   ]
  },
  {
   "cell_type": "markdown",
   "id": "20c2eb43-4965-4437-a34b-4ce58e9dd554",
   "metadata": {},
   "source": [
    "Иными словами, выборочное среднее неизбежно стремится к реальному с увеличением размера выборки.\n",
    "- **Для этого четвертый момент случайной величины должен быть конечным.**\n",
    "- Закон лишь постулирует существование такого предела, но не называет какого-то конечного размера выборки.\n",
    "- Мы должны проявлять осторожность в отношении подмножеств с мерой $\\emptyset$."
   ]
  },
  {
   "cell_type": "markdown",
   "id": "13a06c9c-a9fa-4f60-add9-39b11e5489a8",
   "metadata": {},
   "source": [
    "### Центральная предельная теорема (классическая)"
   ]
  },
  {
   "cell_type": "markdown",
   "id": "dbd4f745-2d83-4a91-b6d5-980b36a5dc40",
   "metadata": {},
   "source": [
    "#### Формальное определение:\n",
    "\n",
    "Пусть $\\bar X$ - выборочное среднее по выборке с дисперсией $\\sigma^2$ и матожиданием $\\mu$, а величина $Z = \\sqrt{n}\\frac{\\bar X - \\mu}{\\sigma}$. Тогда\n",
    "\n",
    "$$\n",
    "\\lim_{n->\\infty}F_Z(k) = \\Phi(k)\n",
    "$$"
   ]
  },
  {
   "cell_type": "markdown",
   "id": "29c3017a-60e6-4243-8fcc-4c7905607180",
   "metadata": {},
   "source": [
    "Иными словами, CDF выборочного среднего после нормализации (то есть у $Z$ среднее 0 и дисперсия 1) приближается с CDF стандартного нормального распределения. Как следствие, CDF любого выборочного среднего приближается к некой гауссиане, например, для $\\bar X$ это $\\mathcal{N}(\\mu, \\sigma^2/n)$.\n",
    "\n",
    "Ограничения:\n",
    "- это не обязательно означает схождение PDF;\n",
    "- **третий момент Х должен быть конечным**;\n",
    "- как следствие, распределения с большим третьим моментом (например, логнормальное) требуют значительно большей выборки для схождения.\n",
    "\n",
    "Что это значит для нас?\n",
    "- позволяет трактовать сумму разнородных случайных величин как нормальную величину;\n",
    "- в некоторой окрестности среднего мы можем применять свойства нормального распределения для анализа."
   ]
  }
 ],
 "metadata": {
  "kernelspec": {
   "display_name": "Python 3 (ipykernel)",
   "language": "python",
   "name": "python3"
  },
  "language_info": {
   "codemirror_mode": {
    "name": "ipython",
    "version": 3
   },
   "file_extension": ".py",
   "mimetype": "text/x-python",
   "name": "python",
   "nbconvert_exporter": "python",
   "pygments_lexer": "ipython3",
   "version": "3.10.10"
  },
  "widgets": {
   "application/vnd.jupyter.widget-state+json": {
    "state": {},
    "version_major": 2,
    "version_minor": 0
   }
  }
 },
 "nbformat": 4,
 "nbformat_minor": 5
}
